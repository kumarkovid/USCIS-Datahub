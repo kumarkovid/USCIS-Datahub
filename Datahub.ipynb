{
 "cells": [
  {
   "cell_type": "code",
   "execution_count": 3,
   "metadata": {},
   "outputs": [],
   "source": [
    "from IPython.core.interactiveshell import InteractiveShell\n",
    "InteractiveShell.ast_node_interactivity = \"all\"\n",
    "import numpy as np\n",
    "import pandas as pd\n",
    "import warnings\n",
    "warnings.filterwarnings('ignore')\n",
    "from datetime import datetime\n",
    "import matplotlib.pyplot as plt\n",
    "import seaborn as sns\n",
    "import datetime\n",
    "import matplotlib.pyplot as plt\n",
    "import seaborn as sns\n",
    "import folium\n",
    "from folium import CircleMarker\n",
    "from IPython.display import IFrame\n",
    "from sklearn.decomposition import LatentDirichletAllocation\n",
    "from sklearn.feature_extraction.text import CountVectorizer\n",
    "from sklearn.model_selection import train_test_split\n",
    "from sklearn.feature_extraction.text import TfidfVectorizer\n",
    "from nltk.cluster import KMeansClusterer, cosine_distance\n",
    "from sklearn.metrics import precision_recall_fscore_support\n",
    "import sklearn\n",
    "import warnings\n",
    "warnings.filterwarnings('ignore')\n",
    "from sklearn import cluster"
   ]
  },
  {
   "cell_type": "code",
   "execution_count": 4,
   "metadata": {},
   "outputs": [],
   "source": [
    "pd.set_option('display.max_rows', 50)\n",
    "pd.set_option('display.max_columns', 50)\n",
    "pd.set_option('display.width', 1000)"
   ]
  },
  {
   "cell_type": "code",
   "execution_count": 5,
   "metadata": {},
   "outputs": [],
   "source": [
    "h1b_2009 = pd.read_csv(\"C:/Users/HP/Downloads/h1b_datahubexport-All/h1b_datahubexport-2009.csv\", encoding = \"ISO-8859-1\")\n",
    "h1b_2010 = pd.read_csv(\"C:/Users/HP/Downloads/h1b_datahubexport-All/h1b_datahubexport-2010.csv\", encoding = \"ISO-8859-1\")\n",
    "h1b_2011 = pd.read_csv(\"C:/Users/HP/Downloads/h1b_datahubexport-All/h1b_datahubexport-2011.csv\", encoding = \"ISO-8859-1\")\n",
    "h1b_2012 = pd.read_csv(\"C:/Users/HP/Downloads/h1b_datahubexport-All/h1b_datahubexport-2012.csv\", encoding = \"ISO-8859-1\")\n",
    "h1b_2013 = pd.read_csv(\"C:/Users/HP/Downloads/h1b_datahubexport-All/h1b_datahubexport-2013.csv\", encoding = \"ISO-8859-1\")\n",
    "h1b_2014 = pd.read_csv(\"C:/Users/HP/Downloads/h1b_datahubexport-All/h1b_datahubexport-2014.csv\", encoding = \"ISO-8859-1\")\n",
    "h1b_2015 = pd.read_csv(\"C:/Users/HP/Downloads/h1b_datahubexport-All/h1b_datahubexport-2015.csv\", encoding = \"ISO-8859-1\")\n",
    "h1b_2016 = pd.read_csv(\"C:/Users/HP/Downloads/h1b_datahubexport-All/h1b_datahubexport-2016.csv\", encoding = \"ISO-8859-1\")\n",
    "h1b_2017 = pd.read_csv(\"C:/Users/HP/Downloads/h1b_datahubexport-All/h1b_datahubexport-2017.csv\", encoding = \"ISO-8859-1\")\n",
    "h1b_2018 = pd.read_csv(\"C:/Users/HP/Downloads/h1b_datahubexport-All/h1b_datahubexport-2018.csv\", encoding = \"ISO-8859-1\")\n",
    "h1b_2019 = pd.read_csv(\"C:/Users/HP/Downloads/h1b_datahubexport-All/h1b_datahubexport-2019.csv\", encoding = \"ISO-8859-1\")"
   ]
  },
  {
   "cell_type": "code",
   "execution_count": 6,
   "metadata": {},
   "outputs": [],
   "source": [
    "frames = [h1b_2009, h1b_2010, h1b_2011, h1b_2012, h1b_2013, h1b_2014, h1b_2015, h1b_2016, h1b_2017, h1b_2018, h1b_2019]\n",
    "H1B_all = pd.concat(frames)\n",
    "\n",
    "H1B_all['Initial Approvals'] = H1B_all['Initial Approvals'].str.replace(\",\",\"\").astype(float)\n",
    "H1B_all['Initial Denials'] = H1B_all['Initial Denials'].str.replace(\",\",\"\").astype(float)\n",
    "H1B_all['Continuing Approvals'] = H1B_all['Continuing Approvals'].str.replace(\",\",\"\").astype(float)\n",
    "H1B_all['Continuing Denials'] = H1B_all['Continuing Denials'].str.replace(\",\",\"\").astype(float)"
   ]
  },
  {
   "cell_type": "code",
   "execution_count": 7,
   "metadata": {},
   "outputs": [],
   "source": [
    "# Questions to answer\n",
    "# Hiring trends of top companies(FAANG) through 2009 to 2019\n",
    "# Total Companies that hired(IA,CA etc) H1b people through 2009 to 2019\n",
    "# Any Change after Trump came in effect\n",
    "# Best states by acceptance rate\n",
    "# Denial rate of New and Old employees through 2009 to 2019\n",
    "# Which sector(top, medium or low number employers) is best bet for H1b through 2009 to 2019\n",
    "# Best and worst state as per acceptance rate through 2009 to 2019\n",
    "# Best and worst Zip code as per acceptance rate through 2009 to 2019\n",
    "# Make clusters of companies for best, good and bad categories"
   ]
  },
  {
   "cell_type": "code",
   "execution_count": 8,
   "metadata": {},
   "outputs": [
    {
     "data": {
      "text/plain": [
       "<matplotlib.axes._subplots.AxesSubplot at 0xd7a5771438>"
      ]
     },
     "execution_count": 8,
     "metadata": {},
     "output_type": "execute_result"
    },
    {
     "data": {
      "image/png": "[encoded data removed]",
      "text/plain": [
       "<Figure size 432x288 with 1 Axes>"
      ]
     },
     "metadata": {
      "needs_background": "light"
     },
     "output_type": "display_data"
    }
   ],
   "source": [
    "H1B_all.groupby('Fiscal Year')['Fiscal Year'].count().plot(kind='bar')"
   ]
  },
  {
   "cell_type": "code",
   "execution_count": 9,
   "metadata": {},
   "outputs": [
    {
     "data": {
      "text/html": [
       "<div>\n",
       "<style scoped>\n",
       "    .dataframe tbody tr th:only-of-type {\n",
       "        vertical-align: middle;\n",
       "    }\n",
       "\n",
       "    .dataframe tbody tr th {\n",
       "        vertical-align: top;\n",
       "    }\n",
       "\n",
       "    .dataframe thead th {\n",
       "        text-align: right;\n",
       "    }\n",
       "</style>\n",
       "<table border=\"1\" class=\"dataframe\">\n",
       "  <thead>\n",
       "    <tr style=\"text-align: right;\">\n",
       "      <th></th>\n",
       "      <th>Fiscal Year</th>\n",
       "      <th>Employer</th>\n",
       "      <th>Initial Approvals</th>\n",
       "      <th>Initial Denials</th>\n",
       "      <th>Continuing Approvals</th>\n",
       "      <th>Continuing Denials</th>\n",
       "      <th>NAICS</th>\n",
       "      <th>Tax ID</th>\n",
       "      <th>State</th>\n",
       "      <th>City</th>\n",
       "      <th>ZIP</th>\n",
       "    </tr>\n",
       "  </thead>\n",
       "  <tbody>\n",
       "    <tr>\n",
       "      <th>0</th>\n",
       "      <td>2009</td>\n",
       "      <td>SAGINAW VLY ST UNIV</td>\n",
       "      <td>1.0</td>\n",
       "      <td>0.0</td>\n",
       "      <td>0.0</td>\n",
       "      <td>NaN</td>\n",
       "      <td>61</td>\n",
       "      <td>NaN</td>\n",
       "      <td>NaN</td>\n",
       "      <td>UNIVERSITY CENTER</td>\n",
       "      <td>NaN</td>\n",
       "    </tr>\n",
       "    <tr>\n",
       "      <th>1</th>\n",
       "      <td>2009</td>\n",
       "      <td>REGIONAL MED CTR BOARD</td>\n",
       "      <td>0.0</td>\n",
       "      <td>0.0</td>\n",
       "      <td>1.0</td>\n",
       "      <td>NaN</td>\n",
       "      <td>62</td>\n",
       "      <td>NaN</td>\n",
       "      <td>AL</td>\n",
       "      <td>ANNISTON</td>\n",
       "      <td>36202.0</td>\n",
       "    </tr>\n",
       "    <tr>\n",
       "      <th>2</th>\n",
       "      <td>2009</td>\n",
       "      <td>BIBB MED CTR BIBB COUNTY HEALTH CA</td>\n",
       "      <td>1.0</td>\n",
       "      <td>0.0</td>\n",
       "      <td>0.0</td>\n",
       "      <td>NaN</td>\n",
       "      <td>62</td>\n",
       "      <td>NaN</td>\n",
       "      <td>AL</td>\n",
       "      <td>CENTREVILLE</td>\n",
       "      <td>35042.0</td>\n",
       "    </tr>\n",
       "    <tr>\n",
       "      <th>3</th>\n",
       "      <td>2009</td>\n",
       "      <td>EMERGENCY MEDICAL SERVICES GROUP</td>\n",
       "      <td>0.0</td>\n",
       "      <td>0.0</td>\n",
       "      <td>1.0</td>\n",
       "      <td>NaN</td>\n",
       "      <td>62</td>\n",
       "      <td>NaN</td>\n",
       "      <td>AR</td>\n",
       "      <td>FORT SMITH</td>\n",
       "      <td>72917.0</td>\n",
       "    </tr>\n",
       "    <tr>\n",
       "      <th>4</th>\n",
       "      <td>2009</td>\n",
       "      <td>THE NEW FOUNDATION</td>\n",
       "      <td>0.0</td>\n",
       "      <td>1.0</td>\n",
       "      <td>0.0</td>\n",
       "      <td>NaN</td>\n",
       "      <td>61</td>\n",
       "      <td>NaN</td>\n",
       "      <td>AZ</td>\n",
       "      <td>SCOTTSDALE</td>\n",
       "      <td>85271.0</td>\n",
       "    </tr>\n",
       "  </tbody>\n",
       "</table>\n",
       "</div>"
      ],
      "text/plain": [
       "   Fiscal Year                            Employer  Initial Approvals  Initial Denials  Continuing Approvals  Continuing Denials  NAICS  Tax ID State               City      ZIP\n",
       "0         2009                 SAGINAW VLY ST UNIV                1.0              0.0                   0.0                 NaN     61     NaN   NaN  UNIVERSITY CENTER      NaN\n",
       "1         2009              REGIONAL MED CTR BOARD                0.0              0.0                   1.0                 NaN     62     NaN    AL           ANNISTON  36202.0\n",
       "2         2009  BIBB MED CTR BIBB COUNTY HEALTH CA                1.0              0.0                   0.0                 NaN     62     NaN    AL        CENTREVILLE  35042.0\n",
       "3         2009    EMERGENCY MEDICAL SERVICES GROUP                0.0              0.0                   1.0                 NaN     62     NaN    AR         FORT SMITH  72917.0\n",
       "4         2009                  THE NEW FOUNDATION                0.0              1.0                   0.0                 NaN     61     NaN    AZ         SCOTTSDALE  85271.0"
      ]
     },
     "execution_count": 9,
     "metadata": {},
     "output_type": "execute_result"
    }
   ],
   "source": [
    "H1B_all.head()"
   ]
  },
  {
   "cell_type": "code",
   "execution_count": 10,
   "metadata": {},
   "outputs": [
    {
     "data": {
      "text/plain": [
       "<matplotlib.axes._subplots.AxesSubplot at 0xd7ac3d5668>"
      ]
     },
     "execution_count": 10,
     "metadata": {},
     "output_type": "execute_result"
    },
    {
     "data": {
      "image/png": "[encoded data removed]",
      "text/plain": [
       "<Figure size 864x432 with 1 Axes>"
      ]
     },
     "metadata": {
      "needs_background": "light"
     },
     "output_type": "display_data"
    }
   ],
   "source": [
    "# Top States per H1-B approvals\n",
    "H1B_all['State'].value_counts().head().plot(kind='bar',figsize=(12,6))"
   ]
  },
  {
   "cell_type": "code",
   "execution_count": 11,
   "metadata": {},
   "outputs": [
    {
     "data": {
      "text/plain": [
       "<matplotlib.axes._subplots.AxesSubplot at 0xd7ac406550>"
      ]
     },
     "execution_count": 11,
     "metadata": {},
     "output_type": "execute_result"
    },
    {
     "data": {
      "image/png": "[encoded data removed]",
      "text/plain": [
       "<Figure size 864x432 with 1 Axes>"
      ]
     },
     "metadata": {
      "needs_background": "light"
     },
     "output_type": "display_data"
    }
   ],
   "source": [
    "H1B_all['State'].value_counts().tail(4).plot(kind='bar',figsize=(12,6))"
   ]
  },
  {
   "cell_type": "code",
   "execution_count": 12,
   "metadata": {},
   "outputs": [],
   "source": [
    "# Top Employers\n",
    "Top_employers = H1B_all.groupby('Employer')['Initial Approvals'].sum().reset_index()\n",
    "Top_employers = Top_employers.sort_values(by='Initial Approvals', ascending=False)"
   ]
  },
  {
   "cell_type": "code",
   "execution_count": 13,
   "metadata": {},
   "outputs": [
    {
     "data": {
      "text/plain": [
       "<matplotlib.axes._subplots.AxesSubplot at 0xd7ac49ca58>"
      ]
     },
     "execution_count": 13,
     "metadata": {},
     "output_type": "execute_result"
    },
    {
     "data": {
      "text/plain": [
       "(array([0, 1, 2, 3, 4, 5, 6, 7, 8, 9]), <a list of 10 Text xticklabel objects>)"
      ]
     },
     "execution_count": 13,
     "metadata": {},
     "output_type": "execute_result"
    },
    {
     "data": {
      "image/png": "[encoded data removed]",
      "text/plain": [
       "<Figure size 1152x432 with 1 Axes>"
      ]
     },
     "metadata": {
      "needs_background": "light"
     },
     "output_type": "display_data"
    }
   ],
   "source": [
    "fig, ax = plt.subplots()\n",
    "fig.set_size_inches(16, 6)\n",
    "\n",
    "sns.barplot(x=Top_employers['Employer'].head(10),y=Top_employers['Initial Approvals'].head(10))\n",
    "plt.xticks(rotation=90)"
   ]
  },
  {
   "cell_type": "code",
   "execution_count": 14,
   "metadata": {},
   "outputs": [],
   "source": [
    "H1B_all['Initial Approvals %'] = round(H1B_all['Initial Approvals'] / (H1B_all['Initial Approvals'] + H1B_all['Initial Denials']),2)\n",
    "H1B_all['Continuing Approvals %'] = round(H1B_all['Continuing Approvals'] / (H1B_all['Continuing Approvals'] + H1B_all['Continuing Denials']),2)"
   ]
  },
  {
   "cell_type": "code",
   "execution_count": 15,
   "metadata": {},
   "outputs": [
    {
     "data": {
      "text/html": [
       "<div>\n",
       "<style scoped>\n",
       "    .dataframe tbody tr th:only-of-type {\n",
       "        vertical-align: middle;\n",
       "    }\n",
       "\n",
       "    .dataframe tbody tr th {\n",
       "        vertical-align: top;\n",
       "    }\n",
       "\n",
       "    .dataframe thead th {\n",
       "        text-align: right;\n",
       "    }\n",
       "</style>\n",
       "<table border=\"1\" class=\"dataframe\">\n",
       "  <thead>\n",
       "    <tr style=\"text-align: right;\">\n",
       "      <th></th>\n",
       "      <th>Fiscal Year</th>\n",
       "      <th>Employer</th>\n",
       "      <th>Initial Approvals</th>\n",
       "      <th>Initial Denials</th>\n",
       "      <th>Continuing Approvals</th>\n",
       "      <th>Continuing Denials</th>\n",
       "      <th>NAICS</th>\n",
       "      <th>Tax ID</th>\n",
       "      <th>State</th>\n",
       "      <th>City</th>\n",
       "      <th>ZIP</th>\n",
       "      <th>Initial Approvals %</th>\n",
       "      <th>Continuing Approvals %</th>\n",
       "    </tr>\n",
       "  </thead>\n",
       "  <tbody>\n",
       "    <tr>\n",
       "      <th>0</th>\n",
       "      <td>2009</td>\n",
       "      <td>SAGINAW VLY ST UNIV</td>\n",
       "      <td>1.0</td>\n",
       "      <td>0.0</td>\n",
       "      <td>0.0</td>\n",
       "      <td>NaN</td>\n",
       "      <td>61</td>\n",
       "      <td>NaN</td>\n",
       "      <td>NaN</td>\n",
       "      <td>UNIVERSITY CENTER</td>\n",
       "      <td>NaN</td>\n",
       "      <td>1.0</td>\n",
       "      <td>NaN</td>\n",
       "    </tr>\n",
       "    <tr>\n",
       "      <th>1</th>\n",
       "      <td>2009</td>\n",
       "      <td>REGIONAL MED CTR BOARD</td>\n",
       "      <td>0.0</td>\n",
       "      <td>0.0</td>\n",
       "      <td>1.0</td>\n",
       "      <td>NaN</td>\n",
       "      <td>62</td>\n",
       "      <td>NaN</td>\n",
       "      <td>AL</td>\n",
       "      <td>ANNISTON</td>\n",
       "      <td>36202.0</td>\n",
       "      <td>NaN</td>\n",
       "      <td>NaN</td>\n",
       "    </tr>\n",
       "    <tr>\n",
       "      <th>2</th>\n",
       "      <td>2009</td>\n",
       "      <td>BIBB MED CTR BIBB COUNTY HEALTH CA</td>\n",
       "      <td>1.0</td>\n",
       "      <td>0.0</td>\n",
       "      <td>0.0</td>\n",
       "      <td>NaN</td>\n",
       "      <td>62</td>\n",
       "      <td>NaN</td>\n",
       "      <td>AL</td>\n",
       "      <td>CENTREVILLE</td>\n",
       "      <td>35042.0</td>\n",
       "      <td>1.0</td>\n",
       "      <td>NaN</td>\n",
       "    </tr>\n",
       "    <tr>\n",
       "      <th>3</th>\n",
       "      <td>2009</td>\n",
       "      <td>EMERGENCY MEDICAL SERVICES GROUP</td>\n",
       "      <td>0.0</td>\n",
       "      <td>0.0</td>\n",
       "      <td>1.0</td>\n",
       "      <td>NaN</td>\n",
       "      <td>62</td>\n",
       "      <td>NaN</td>\n",
       "      <td>AR</td>\n",
       "      <td>FORT SMITH</td>\n",
       "      <td>72917.0</td>\n",
       "      <td>NaN</td>\n",
       "      <td>NaN</td>\n",
       "    </tr>\n",
       "    <tr>\n",
       "      <th>4</th>\n",
       "      <td>2009</td>\n",
       "      <td>THE NEW FOUNDATION</td>\n",
       "      <td>0.0</td>\n",
       "      <td>1.0</td>\n",
       "      <td>0.0</td>\n",
       "      <td>NaN</td>\n",
       "      <td>61</td>\n",
       "      <td>NaN</td>\n",
       "      <td>AZ</td>\n",
       "      <td>SCOTTSDALE</td>\n",
       "      <td>85271.0</td>\n",
       "      <td>0.0</td>\n",
       "      <td>NaN</td>\n",
       "    </tr>\n",
       "  </tbody>\n",
       "</table>\n",
       "</div>"
      ],
      "text/plain": [
       "   Fiscal Year                            Employer  Initial Approvals  Initial Denials  Continuing Approvals  Continuing Denials  NAICS  Tax ID State               City      ZIP  Initial Approvals %  Continuing Approvals %\n",
       "0         2009                 SAGINAW VLY ST UNIV                1.0              0.0                   0.0                 NaN     61     NaN   NaN  UNIVERSITY CENTER      NaN                  1.0                     NaN\n",
       "1         2009              REGIONAL MED CTR BOARD                0.0              0.0                   1.0                 NaN     62     NaN    AL           ANNISTON  36202.0                  NaN                     NaN\n",
       "2         2009  BIBB MED CTR BIBB COUNTY HEALTH CA                1.0              0.0                   0.0                 NaN     62     NaN    AL        CENTREVILLE  35042.0                  1.0                     NaN\n",
       "3         2009    EMERGENCY MEDICAL SERVICES GROUP                0.0              0.0                   1.0                 NaN     62     NaN    AR         FORT SMITH  72917.0                  NaN                     NaN\n",
       "4         2009                  THE NEW FOUNDATION                0.0              1.0                   0.0                 NaN     61     NaN    AZ         SCOTTSDALE  85271.0                  0.0                     NaN"
      ]
     },
     "execution_count": 15,
     "metadata": {},
     "output_type": "execute_result"
    }
   ],
   "source": [
    "H1B_all.head()"
   ]
  },
  {
   "cell_type": "code",
   "execution_count": 16,
   "metadata": {},
   "outputs": [
    {
     "data": {
      "text/plain": [
       "Fiscal Year\n",
       "2009                        WIPRO LIMITED\n",
       "2010    COGNIZANT TECHNOLOGY SOLUTIONS US\n",
       "2011     COGNIZANT TECH SOLUTIONS US CORP\n",
       "2012         COGNIZANT TECH SOLNS US CORP\n",
       "2013    TATA CONSULTANCY SERVICES LIMITED\n",
       "2014    TATA CONSULTANCY SERVICES LIMITED\n",
       "2015            TATA CONSULTANCY SVCS LTD\n",
       "2016         COGNIZANT TECH SOLNS US CORP\n",
       "2017         COGNIZANT TECH SOLNS US CORP\n",
       "2018      AMAZON FULFILLMENT SERVICES INC\n",
       "2019              AMAZON.COM SERVICES INC\n",
       "Name: Employer, dtype: object"
      ]
     },
     "execution_count": 16,
     "metadata": {},
     "output_type": "execute_result"
    }
   ],
   "source": [
    "# Top Employers by year\n",
    "Top_H1b_Employers_by_year = H1B_all.groupby(['Fiscal Year','Employer'])['Initial Approvals'].sum().reset_index()\n",
    "Top_H1b_Employers_by_year = Top_H1b_Employers_by_year.sort_values(by='Initial Approvals', ascending=False)\n",
    "Top_H1b_Employers_by_year.groupby(['Fiscal Year'])['Employer'].first()"
   ]
  },
  {
   "cell_type": "code",
   "execution_count": 17,
   "metadata": {},
   "outputs": [],
   "source": [
    "# Acceptance rate per state\n",
    "H1B_State_initial_Approval = H1B_all.groupby(['State'])['Initial Approvals'].sum()/(H1B_all.groupby(['State'])['Initial Approvals'].sum() + H1B_all.groupby(['State'])['Initial Denials'].sum())\n",
    "H1B_State_Continuing_Approval = H1B_all.groupby(['State'])['Continuing Approvals'].sum()/(H1B_all.groupby(['State'])['Continuing Approvals'].sum() + H1B_all.groupby(['State'])['Continuing Denials'].sum())\n",
    "\n",
    "#Count of cases per state\n",
    "H1B_State_initial_case_count = H1B_all.groupby(['State'])['Initial Approvals'].sum() + H1B_all.groupby(['State'])['Initial Denials'].sum()\n",
    "H1B_State_Continuing_case_count = H1B_all.groupby(['State'])['Continuing Approvals'].sum() + H1B_all.groupby(['State'])['Continuing Denials'].sum()"
   ]
  },
  {
   "cell_type": "code",
   "execution_count": 18,
   "metadata": {},
   "outputs": [],
   "source": [
    "H1B_State_initial_Approval = H1B_State_initial_Approval.reset_index()\n",
    "H1B_State_initial_Approval.columns = ['State','State_initial_Approval']\n",
    "\n",
    "H1B_State_Continuing_Approval = H1B_State_Continuing_Approval.reset_index()\n",
    "H1B_State_Continuing_Approval.columns = ['State','State_Continuing_Approval']\n",
    "\n",
    "H1B_State_initial_case_count = H1B_State_initial_case_count.reset_index()\n",
    "H1B_State_initial_case_count.columns = ['State','State_initial_case_count']\n",
    "\n",
    "H1B_State_Continuing_case_count = H1B_State_Continuing_case_count.reset_index()\n",
    "H1B_State_Continuing_case_count.columns = ['State','State_Continuing_case_count']"
   ]
  },
  {
   "cell_type": "code",
   "execution_count": 19,
   "metadata": {},
   "outputs": [],
   "source": [
    "H1B_All = H1B_all.merge(H1B_State_initial_Approval, how='left', left_on=['State'], \n",
    "                         right_on=['State'])\n",
    "\n",
    "H1B_All = H1B_All.merge(H1B_State_Continuing_Approval, how='left', left_on=['State'], \n",
    "                         right_on=['State'])\n",
    "\n",
    "H1B_All = H1B_All.merge(H1B_State_initial_case_count, how='left', left_on=['State'], \n",
    "                         right_on=['State'])\n",
    "\n",
    "H1B_All = H1B_All.merge(H1B_State_Continuing_case_count, how='left', left_on=['State'], \n",
    "                         right_on=['State'])"
   ]
  },
  {
   "cell_type": "code",
   "execution_count": 20,
   "metadata": {},
   "outputs": [
    {
     "data": {
      "text/html": [
       "<div>\n",
       "<style scoped>\n",
       "    .dataframe tbody tr th:only-of-type {\n",
       "        vertical-align: middle;\n",
       "    }\n",
       "\n",
       "    .dataframe tbody tr th {\n",
       "        vertical-align: top;\n",
       "    }\n",
       "\n",
       "    .dataframe thead th {\n",
       "        text-align: right;\n",
       "    }\n",
       "</style>\n",
       "<table border=\"1\" class=\"dataframe\">\n",
       "  <thead>\n",
       "    <tr style=\"text-align: right;\">\n",
       "      <th></th>\n",
       "      <th>Fiscal Year</th>\n",
       "      <th>Employer</th>\n",
       "      <th>Initial Approvals</th>\n",
       "      <th>Initial Denials</th>\n",
       "      <th>Continuing Approvals</th>\n",
       "      <th>Continuing Denials</th>\n",
       "      <th>NAICS</th>\n",
       "      <th>Tax ID</th>\n",
       "      <th>State</th>\n",
       "      <th>City</th>\n",
       "      <th>ZIP</th>\n",
       "      <th>Initial Approvals %</th>\n",
       "      <th>Continuing Approvals %</th>\n",
       "      <th>State_initial_Approval</th>\n",
       "      <th>State_Continuing_Approval</th>\n",
       "      <th>State_initial_case_count</th>\n",
       "      <th>State_Continuing_case_count</th>\n",
       "    </tr>\n",
       "  </thead>\n",
       "  <tbody>\n",
       "    <tr>\n",
       "      <th>622683</th>\n",
       "      <td>2019</td>\n",
       "      <td>BYTEDANCE INC</td>\n",
       "      <td>0.0</td>\n",
       "      <td>0.0</td>\n",
       "      <td>1.0</td>\n",
       "      <td>0.0</td>\n",
       "      <td>51</td>\n",
       "      <td>9999.0</td>\n",
       "      <td>CA</td>\n",
       "      <td>MENLO PARK</td>\n",
       "      <td>94025.0</td>\n",
       "      <td>NaN</td>\n",
       "      <td>1.0</td>\n",
       "      <td>0.953666</td>\n",
       "      <td>0.98134</td>\n",
       "      <td>225320.0</td>\n",
       "      <td>369184.0</td>\n",
       "    </tr>\n",
       "    <tr>\n",
       "      <th>253502</th>\n",
       "      <td>2013</td>\n",
       "      <td>KWANGWON USA INC</td>\n",
       "      <td>0.0</td>\n",
       "      <td>NaN</td>\n",
       "      <td>0.0</td>\n",
       "      <td>NaN</td>\n",
       "      <td>31</td>\n",
       "      <td>5741.0</td>\n",
       "      <td>CA</td>\n",
       "      <td>ONTARIO</td>\n",
       "      <td>91761.0</td>\n",
       "      <td>NaN</td>\n",
       "      <td>NaN</td>\n",
       "      <td>0.953666</td>\n",
       "      <td>0.98134</td>\n",
       "      <td>225320.0</td>\n",
       "      <td>369184.0</td>\n",
       "    </tr>\n",
       "    <tr>\n",
       "      <th>253394</th>\n",
       "      <td>2013</td>\n",
       "      <td>CHAN &amp; ZHANG LLP</td>\n",
       "      <td>2.0</td>\n",
       "      <td>NaN</td>\n",
       "      <td>0.0</td>\n",
       "      <td>NaN</td>\n",
       "      <td>54</td>\n",
       "      <td>3569.0</td>\n",
       "      <td>CA</td>\n",
       "      <td>SAN GABRIEL</td>\n",
       "      <td>91776.0</td>\n",
       "      <td>NaN</td>\n",
       "      <td>NaN</td>\n",
       "      <td>0.953666</td>\n",
       "      <td>0.98134</td>\n",
       "      <td>225320.0</td>\n",
       "      <td>369184.0</td>\n",
       "    </tr>\n",
       "    <tr>\n",
       "      <th>253406</th>\n",
       "      <td>2013</td>\n",
       "      <td>ELEMENT CXI SERVICES CORP</td>\n",
       "      <td>1.0</td>\n",
       "      <td>NaN</td>\n",
       "      <td>0.0</td>\n",
       "      <td>NaN</td>\n",
       "      <td>33</td>\n",
       "      <td>6891.0</td>\n",
       "      <td>CA</td>\n",
       "      <td>SAN JOSE</td>\n",
       "      <td>95131.0</td>\n",
       "      <td>NaN</td>\n",
       "      <td>NaN</td>\n",
       "      <td>0.953666</td>\n",
       "      <td>0.98134</td>\n",
       "      <td>225320.0</td>\n",
       "      <td>369184.0</td>\n",
       "    </tr>\n",
       "    <tr>\n",
       "      <th>253409</th>\n",
       "      <td>2013</td>\n",
       "      <td>ADVANCED ELEMENTAL TECHNOLOGIES IN</td>\n",
       "      <td>0.0</td>\n",
       "      <td>NaN</td>\n",
       "      <td>0.0</td>\n",
       "      <td>NaN</td>\n",
       "      <td>99</td>\n",
       "      <td>3122.0</td>\n",
       "      <td>CA</td>\n",
       "      <td>DANVILLE</td>\n",
       "      <td>94527.0</td>\n",
       "      <td>NaN</td>\n",
       "      <td>NaN</td>\n",
       "      <td>0.953666</td>\n",
       "      <td>0.98134</td>\n",
       "      <td>225320.0</td>\n",
       "      <td>369184.0</td>\n",
       "    </tr>\n",
       "    <tr>\n",
       "      <th>253411</th>\n",
       "      <td>2013</td>\n",
       "      <td>PRIME VIEW DISPLAY INC</td>\n",
       "      <td>0.0</td>\n",
       "      <td>NaN</td>\n",
       "      <td>1.0</td>\n",
       "      <td>NaN</td>\n",
       "      <td>99</td>\n",
       "      <td>3736.0</td>\n",
       "      <td>CA</td>\n",
       "      <td>IRVINE</td>\n",
       "      <td>92618.0</td>\n",
       "      <td>NaN</td>\n",
       "      <td>NaN</td>\n",
       "      <td>0.953666</td>\n",
       "      <td>0.98134</td>\n",
       "      <td>225320.0</td>\n",
       "      <td>369184.0</td>\n",
       "    </tr>\n",
       "    <tr>\n",
       "      <th>253416</th>\n",
       "      <td>2013</td>\n",
       "      <td>K S M GARMENT INC</td>\n",
       "      <td>0.0</td>\n",
       "      <td>NaN</td>\n",
       "      <td>1.0</td>\n",
       "      <td>NaN</td>\n",
       "      <td>31</td>\n",
       "      <td>9397.0</td>\n",
       "      <td>CA</td>\n",
       "      <td>VERNON</td>\n",
       "      <td>90058.0</td>\n",
       "      <td>NaN</td>\n",
       "      <td>NaN</td>\n",
       "      <td>0.953666</td>\n",
       "      <td>0.98134</td>\n",
       "      <td>225320.0</td>\n",
       "      <td>369184.0</td>\n",
       "    </tr>\n",
       "    <tr>\n",
       "      <th>253426</th>\n",
       "      <td>2013</td>\n",
       "      <td>PROACTIVE TECHNICAL SERVICES INC</td>\n",
       "      <td>8.0</td>\n",
       "      <td>NaN</td>\n",
       "      <td>4.0</td>\n",
       "      <td>NaN</td>\n",
       "      <td>54</td>\n",
       "      <td>9668.0</td>\n",
       "      <td>CA</td>\n",
       "      <td>SAN JOSE</td>\n",
       "      <td>95129.0</td>\n",
       "      <td>NaN</td>\n",
       "      <td>NaN</td>\n",
       "      <td>0.953666</td>\n",
       "      <td>0.98134</td>\n",
       "      <td>225320.0</td>\n",
       "      <td>369184.0</td>\n",
       "    </tr>\n",
       "    <tr>\n",
       "      <th>253427</th>\n",
       "      <td>2013</td>\n",
       "      <td>BEAR DATA SOLUTIONS INC</td>\n",
       "      <td>0.0</td>\n",
       "      <td>NaN</td>\n",
       "      <td>1.0</td>\n",
       "      <td>NaN</td>\n",
       "      <td>54</td>\n",
       "      <td>9856.0</td>\n",
       "      <td>CA</td>\n",
       "      <td>SAN FRANCISCO</td>\n",
       "      <td>94105.0</td>\n",
       "      <td>NaN</td>\n",
       "      <td>NaN</td>\n",
       "      <td>0.953666</td>\n",
       "      <td>0.98134</td>\n",
       "      <td>225320.0</td>\n",
       "      <td>369184.0</td>\n",
       "    </tr>\n",
       "    <tr>\n",
       "      <th>253428</th>\n",
       "      <td>2013</td>\n",
       "      <td>ENLUME INC</td>\n",
       "      <td>1.0</td>\n",
       "      <td>NaN</td>\n",
       "      <td>0.0</td>\n",
       "      <td>NaN</td>\n",
       "      <td>54</td>\n",
       "      <td>9882.0</td>\n",
       "      <td>CA</td>\n",
       "      <td>CAMPBELL</td>\n",
       "      <td>95008.0</td>\n",
       "      <td>NaN</td>\n",
       "      <td>NaN</td>\n",
       "      <td>0.953666</td>\n",
       "      <td>0.98134</td>\n",
       "      <td>225320.0</td>\n",
       "      <td>369184.0</td>\n",
       "    </tr>\n",
       "    <tr>\n",
       "      <th>253453</th>\n",
       "      <td>2013</td>\n",
       "      <td>SMARTPLAY INC</td>\n",
       "      <td>1.0</td>\n",
       "      <td>NaN</td>\n",
       "      <td>0.0</td>\n",
       "      <td>NaN</td>\n",
       "      <td>54</td>\n",
       "      <td>7090.0</td>\n",
       "      <td>CA</td>\n",
       "      <td>SAN JOSE</td>\n",
       "      <td>95134.0</td>\n",
       "      <td>NaN</td>\n",
       "      <td>NaN</td>\n",
       "      <td>0.953666</td>\n",
       "      <td>0.98134</td>\n",
       "      <td>225320.0</td>\n",
       "      <td>369184.0</td>\n",
       "    </tr>\n",
       "    <tr>\n",
       "      <th>253457</th>\n",
       "      <td>2013</td>\n",
       "      <td>ISLAND PACIFIC SYSTEMS INC</td>\n",
       "      <td>1.0</td>\n",
       "      <td>NaN</td>\n",
       "      <td>0.0</td>\n",
       "      <td>NaN</td>\n",
       "      <td>54</td>\n",
       "      <td>2249.0</td>\n",
       "      <td>CA</td>\n",
       "      <td>IRVINE</td>\n",
       "      <td>92614.0</td>\n",
       "      <td>NaN</td>\n",
       "      <td>NaN</td>\n",
       "      <td>0.953666</td>\n",
       "      <td>0.98134</td>\n",
       "      <td>225320.0</td>\n",
       "      <td>369184.0</td>\n",
       "    </tr>\n",
       "    <tr>\n",
       "      <th>253459</th>\n",
       "      <td>2013</td>\n",
       "      <td>ANN CHIANG CPA</td>\n",
       "      <td>0.0</td>\n",
       "      <td>NaN</td>\n",
       "      <td>1.0</td>\n",
       "      <td>NaN</td>\n",
       "      <td>54</td>\n",
       "      <td>5430.0</td>\n",
       "      <td>CA</td>\n",
       "      <td>SAN JOSE</td>\n",
       "      <td>95131.0</td>\n",
       "      <td>NaN</td>\n",
       "      <td>NaN</td>\n",
       "      <td>0.953666</td>\n",
       "      <td>0.98134</td>\n",
       "      <td>225320.0</td>\n",
       "      <td>369184.0</td>\n",
       "    </tr>\n",
       "    <tr>\n",
       "      <th>253469</th>\n",
       "      <td>2013</td>\n",
       "      <td>ANTHERA PHARMACEUTICALS INC</td>\n",
       "      <td>1.0</td>\n",
       "      <td>NaN</td>\n",
       "      <td>0.0</td>\n",
       "      <td>NaN</td>\n",
       "      <td>32</td>\n",
       "      <td>2016.0</td>\n",
       "      <td>CA</td>\n",
       "      <td>HAYWARD</td>\n",
       "      <td>94545.0</td>\n",
       "      <td>NaN</td>\n",
       "      <td>NaN</td>\n",
       "      <td>0.953666</td>\n",
       "      <td>0.98134</td>\n",
       "      <td>225320.0</td>\n",
       "      <td>369184.0</td>\n",
       "    </tr>\n",
       "    <tr>\n",
       "      <th>253472</th>\n",
       "      <td>2013</td>\n",
       "      <td>YELP INC</td>\n",
       "      <td>14.0</td>\n",
       "      <td>NaN</td>\n",
       "      <td>6.0</td>\n",
       "      <td>NaN</td>\n",
       "      <td>51</td>\n",
       "      <td>4266.0</td>\n",
       "      <td>CA</td>\n",
       "      <td>SAN FRANCISCO</td>\n",
       "      <td>94103.0</td>\n",
       "      <td>NaN</td>\n",
       "      <td>NaN</td>\n",
       "      <td>0.953666</td>\n",
       "      <td>0.98134</td>\n",
       "      <td>225320.0</td>\n",
       "      <td>369184.0</td>\n",
       "    </tr>\n",
       "    <tr>\n",
       "      <th>253473</th>\n",
       "      <td>2013</td>\n",
       "      <td>YELP INC</td>\n",
       "      <td>1.0</td>\n",
       "      <td>NaN</td>\n",
       "      <td>1.0</td>\n",
       "      <td>NaN</td>\n",
       "      <td>51</td>\n",
       "      <td>4266.0</td>\n",
       "      <td>CA</td>\n",
       "      <td>SAN FRANCISCO</td>\n",
       "      <td>94105.0</td>\n",
       "      <td>NaN</td>\n",
       "      <td>NaN</td>\n",
       "      <td>0.953666</td>\n",
       "      <td>0.98134</td>\n",
       "      <td>225320.0</td>\n",
       "      <td>369184.0</td>\n",
       "    </tr>\n",
       "    <tr>\n",
       "      <th>253481</th>\n",
       "      <td>2013</td>\n",
       "      <td>SMARTPLAY INC</td>\n",
       "      <td>15.0</td>\n",
       "      <td>NaN</td>\n",
       "      <td>2.0</td>\n",
       "      <td>NaN</td>\n",
       "      <td>54</td>\n",
       "      <td>7090.0</td>\n",
       "      <td>CA</td>\n",
       "      <td>SAN JOSE</td>\n",
       "      <td>95131.0</td>\n",
       "      <td>NaN</td>\n",
       "      <td>NaN</td>\n",
       "      <td>0.953666</td>\n",
       "      <td>0.98134</td>\n",
       "      <td>225320.0</td>\n",
       "      <td>369184.0</td>\n",
       "    </tr>\n",
       "    <tr>\n",
       "      <th>253482</th>\n",
       "      <td>2013</td>\n",
       "      <td>SMARTPLAY INC</td>\n",
       "      <td>135.0</td>\n",
       "      <td>NaN</td>\n",
       "      <td>65.0</td>\n",
       "      <td>NaN</td>\n",
       "      <td>54</td>\n",
       "      <td>7090.0</td>\n",
       "      <td>CA</td>\n",
       "      <td>SAN JOSE</td>\n",
       "      <td>95134.0</td>\n",
       "      <td>NaN</td>\n",
       "      <td>NaN</td>\n",
       "      <td>0.953666</td>\n",
       "      <td>0.98134</td>\n",
       "      <td>225320.0</td>\n",
       "      <td>369184.0</td>\n",
       "    </tr>\n",
       "    <tr>\n",
       "      <th>253485</th>\n",
       "      <td>2013</td>\n",
       "      <td>PAIRPOINT GRP INC</td>\n",
       "      <td>0.0</td>\n",
       "      <td>NaN</td>\n",
       "      <td>1.0</td>\n",
       "      <td>NaN</td>\n",
       "      <td>54</td>\n",
       "      <td>784.0</td>\n",
       "      <td>CA</td>\n",
       "      <td>SACRAMENTO</td>\n",
       "      <td>95831.0</td>\n",
       "      <td>NaN</td>\n",
       "      <td>NaN</td>\n",
       "      <td>0.953666</td>\n",
       "      <td>0.98134</td>\n",
       "      <td>225320.0</td>\n",
       "      <td>369184.0</td>\n",
       "    </tr>\n",
       "    <tr>\n",
       "      <th>253487</th>\n",
       "      <td>2013</td>\n",
       "      <td>KIRK NIX ASSO INC DBA KNA DESIGN</td>\n",
       "      <td>1.0</td>\n",
       "      <td>NaN</td>\n",
       "      <td>0.0</td>\n",
       "      <td>NaN</td>\n",
       "      <td>54</td>\n",
       "      <td>8993.0</td>\n",
       "      <td>CA</td>\n",
       "      <td>LOS ANGELES</td>\n",
       "      <td>90048.0</td>\n",
       "      <td>NaN</td>\n",
       "      <td>NaN</td>\n",
       "      <td>0.953666</td>\n",
       "      <td>0.98134</td>\n",
       "      <td>225320.0</td>\n",
       "      <td>369184.0</td>\n",
       "    </tr>\n",
       "    <tr>\n",
       "      <th>253493</th>\n",
       "      <td>2013</td>\n",
       "      <td>BIORX PHARMACEUTICAL INC DBA BIORX</td>\n",
       "      <td>1.0</td>\n",
       "      <td>NaN</td>\n",
       "      <td>0.0</td>\n",
       "      <td>NaN</td>\n",
       "      <td>32</td>\n",
       "      <td>5500.0</td>\n",
       "      <td>CA</td>\n",
       "      <td>COMMERCE</td>\n",
       "      <td>90040.0</td>\n",
       "      <td>NaN</td>\n",
       "      <td>NaN</td>\n",
       "      <td>0.953666</td>\n",
       "      <td>0.98134</td>\n",
       "      <td>225320.0</td>\n",
       "      <td>369184.0</td>\n",
       "    </tr>\n",
       "    <tr>\n",
       "      <th>592597</th>\n",
       "      <td>2019</td>\n",
       "      <td>JAMES WEE ACCOUNTANCY CORP</td>\n",
       "      <td>1.0</td>\n",
       "      <td>0.0</td>\n",
       "      <td>0.0</td>\n",
       "      <td>0.0</td>\n",
       "      <td>54</td>\n",
       "      <td>9569.0</td>\n",
       "      <td>CA</td>\n",
       "      <td>SAN JOSE</td>\n",
       "      <td>95129.0</td>\n",
       "      <td>1.0</td>\n",
       "      <td>NaN</td>\n",
       "      <td>0.953666</td>\n",
       "      <td>0.98134</td>\n",
       "      <td>225320.0</td>\n",
       "      <td>369184.0</td>\n",
       "    </tr>\n",
       "    <tr>\n",
       "      <th>253495</th>\n",
       "      <td>2013</td>\n",
       "      <td>PIVOT POINT CAPITAL PARTNERS L</td>\n",
       "      <td>0.0</td>\n",
       "      <td>NaN</td>\n",
       "      <td>1.0</td>\n",
       "      <td>NaN</td>\n",
       "      <td>52</td>\n",
       "      <td>8857.0</td>\n",
       "      <td>CA</td>\n",
       "      <td>SAN FRANCISCO</td>\n",
       "      <td>94104.0</td>\n",
       "      <td>NaN</td>\n",
       "      <td>NaN</td>\n",
       "      <td>0.953666</td>\n",
       "      <td>0.98134</td>\n",
       "      <td>225320.0</td>\n",
       "      <td>369184.0</td>\n",
       "    </tr>\n",
       "    <tr>\n",
       "      <th>253393</th>\n",
       "      <td>2013</td>\n",
       "      <td>CHAN &amp; ZHANG LLP</td>\n",
       "      <td>2.0</td>\n",
       "      <td>NaN</td>\n",
       "      <td>0.0</td>\n",
       "      <td>NaN</td>\n",
       "      <td>54</td>\n",
       "      <td>3569.0</td>\n",
       "      <td>CA</td>\n",
       "      <td>ROWLAND HEIGHTS</td>\n",
       "      <td>91748.0</td>\n",
       "      <td>NaN</td>\n",
       "      <td>NaN</td>\n",
       "      <td>0.953666</td>\n",
       "      <td>0.98134</td>\n",
       "      <td>225320.0</td>\n",
       "      <td>369184.0</td>\n",
       "    </tr>\n",
       "    <tr>\n",
       "      <th>253392</th>\n",
       "      <td>2013</td>\n",
       "      <td>CHAN &amp; ZHANG LLP</td>\n",
       "      <td>3.0</td>\n",
       "      <td>NaN</td>\n",
       "      <td>0.0</td>\n",
       "      <td>NaN</td>\n",
       "      <td>54</td>\n",
       "      <td>3569.0</td>\n",
       "      <td>CA</td>\n",
       "      <td>CITY OF INDUSTRY</td>\n",
       "      <td>91748.0</td>\n",
       "      <td>NaN</td>\n",
       "      <td>NaN</td>\n",
       "      <td>0.953666</td>\n",
       "      <td>0.98134</td>\n",
       "      <td>225320.0</td>\n",
       "      <td>369184.0</td>\n",
       "    </tr>\n",
       "    <tr>\n",
       "      <th>...</th>\n",
       "      <td>...</td>\n",
       "      <td>...</td>\n",
       "      <td>...</td>\n",
       "      <td>...</td>\n",
       "      <td>...</td>\n",
       "      <td>...</td>\n",
       "      <td>...</td>\n",
       "      <td>...</td>\n",
       "      <td>...</td>\n",
       "      <td>...</td>\n",
       "      <td>...</td>\n",
       "      <td>...</td>\n",
       "      <td>...</td>\n",
       "      <td>...</td>\n",
       "      <td>...</td>\n",
       "      <td>...</td>\n",
       "      <td>...</td>\n",
       "    </tr>\n",
       "    <tr>\n",
       "      <th>457588</th>\n",
       "      <td>2016</td>\n",
       "      <td>EQUISOFT INC</td>\n",
       "      <td>1.0</td>\n",
       "      <td>NaN</td>\n",
       "      <td>1.0</td>\n",
       "      <td>NaN</td>\n",
       "      <td>54</td>\n",
       "      <td>7844.0</td>\n",
       "      <td>NaN</td>\n",
       "      <td>MONTREAL</td>\n",
       "      <td>NaN</td>\n",
       "      <td>NaN</td>\n",
       "      <td>NaN</td>\n",
       "      <td>NaN</td>\n",
       "      <td>NaN</td>\n",
       "      <td>NaN</td>\n",
       "      <td>NaN</td>\n",
       "    </tr>\n",
       "    <tr>\n",
       "      <th>457618</th>\n",
       "      <td>2016</td>\n",
       "      <td>INFLUITIVE CORPORATION</td>\n",
       "      <td>0.0</td>\n",
       "      <td>NaN</td>\n",
       "      <td>1.0</td>\n",
       "      <td>NaN</td>\n",
       "      <td>54</td>\n",
       "      <td>2444.0</td>\n",
       "      <td>NaN</td>\n",
       "      <td>TORONTO</td>\n",
       "      <td>NaN</td>\n",
       "      <td>NaN</td>\n",
       "      <td>NaN</td>\n",
       "      <td>NaN</td>\n",
       "      <td>NaN</td>\n",
       "      <td>NaN</td>\n",
       "      <td>NaN</td>\n",
       "    </tr>\n",
       "    <tr>\n",
       "      <th>460166</th>\n",
       "      <td>2017</td>\n",
       "      <td>DELOITTE CONSULTING LLP</td>\n",
       "      <td>1.0</td>\n",
       "      <td>NaN</td>\n",
       "      <td>0.0</td>\n",
       "      <td>NaN</td>\n",
       "      <td>54</td>\n",
       "      <td>4513.0</td>\n",
       "      <td>NaN</td>\n",
       "      <td>TORONTO</td>\n",
       "      <td>NaN</td>\n",
       "      <td>NaN</td>\n",
       "      <td>NaN</td>\n",
       "      <td>NaN</td>\n",
       "      <td>NaN</td>\n",
       "      <td>NaN</td>\n",
       "      <td>NaN</td>\n",
       "    </tr>\n",
       "    <tr>\n",
       "      <th>460167</th>\n",
       "      <td>2017</td>\n",
       "      <td>DELOITTE CONSULTING LLP</td>\n",
       "      <td>0.0</td>\n",
       "      <td>NaN</td>\n",
       "      <td>1.0</td>\n",
       "      <td>NaN</td>\n",
       "      <td>54</td>\n",
       "      <td>4513.0</td>\n",
       "      <td>NaN</td>\n",
       "      <td>TORTONTO</td>\n",
       "      <td>NaN</td>\n",
       "      <td>NaN</td>\n",
       "      <td>NaN</td>\n",
       "      <td>NaN</td>\n",
       "      <td>NaN</td>\n",
       "      <td>NaN</td>\n",
       "      <td>NaN</td>\n",
       "    </tr>\n",
       "    <tr>\n",
       "      <th>461745</th>\n",
       "      <td>2017</td>\n",
       "      <td>DELOITTE TOUCHE TOHMATSU SVCS INC</td>\n",
       "      <td>0.0</td>\n",
       "      <td>NaN</td>\n",
       "      <td>1.0</td>\n",
       "      <td>NaN</td>\n",
       "      <td>54</td>\n",
       "      <td>6681.0</td>\n",
       "      <td>NaN</td>\n",
       "      <td>TORONTO</td>\n",
       "      <td>NaN</td>\n",
       "      <td>NaN</td>\n",
       "      <td>NaN</td>\n",
       "      <td>NaN</td>\n",
       "      <td>NaN</td>\n",
       "      <td>NaN</td>\n",
       "      <td>NaN</td>\n",
       "    </tr>\n",
       "    <tr>\n",
       "      <th>462641</th>\n",
       "      <td>2017</td>\n",
       "      <td>PRICEWATERHOUSECOOPERS LLP</td>\n",
       "      <td>0.0</td>\n",
       "      <td>NaN</td>\n",
       "      <td>1.0</td>\n",
       "      <td>NaN</td>\n",
       "      <td>54</td>\n",
       "      <td>8324.0</td>\n",
       "      <td>NaN</td>\n",
       "      <td>TORONTO</td>\n",
       "      <td>NaN</td>\n",
       "      <td>NaN</td>\n",
       "      <td>NaN</td>\n",
       "      <td>NaN</td>\n",
       "      <td>NaN</td>\n",
       "      <td>NaN</td>\n",
       "      <td>NaN</td>\n",
       "    </tr>\n",
       "    <tr>\n",
       "      <th>477073</th>\n",
       "      <td>2017</td>\n",
       "      <td>SYNAPTIVE MEDICAL USA INC</td>\n",
       "      <td>1.0</td>\n",
       "      <td>NaN</td>\n",
       "      <td>0.0</td>\n",
       "      <td>NaN</td>\n",
       "      <td>33</td>\n",
       "      <td>1241.0</td>\n",
       "      <td>NaN</td>\n",
       "      <td>TORONTO</td>\n",
       "      <td>NaN</td>\n",
       "      <td>NaN</td>\n",
       "      <td>NaN</td>\n",
       "      <td>NaN</td>\n",
       "      <td>NaN</td>\n",
       "      <td>NaN</td>\n",
       "      <td>NaN</td>\n",
       "    </tr>\n",
       "    <tr>\n",
       "      <th>477759</th>\n",
       "      <td>2017</td>\n",
       "      <td>SILVER STANDARD US SERVICES INC</td>\n",
       "      <td>0.0</td>\n",
       "      <td>NaN</td>\n",
       "      <td>0.0</td>\n",
       "      <td>NaN</td>\n",
       "      <td>21</td>\n",
       "      <td>9336.0</td>\n",
       "      <td>NaN</td>\n",
       "      <td>VANCOUVER</td>\n",
       "      <td>NaN</td>\n",
       "      <td>NaN</td>\n",
       "      <td>NaN</td>\n",
       "      <td>NaN</td>\n",
       "      <td>NaN</td>\n",
       "      <td>NaN</td>\n",
       "      <td>NaN</td>\n",
       "    </tr>\n",
       "    <tr>\n",
       "      <th>478144</th>\n",
       "      <td>2017</td>\n",
       "      <td>ERNST YOUNG U S LLP</td>\n",
       "      <td>0.0</td>\n",
       "      <td>NaN</td>\n",
       "      <td>1.0</td>\n",
       "      <td>NaN</td>\n",
       "      <td>54</td>\n",
       "      <td>5596.0</td>\n",
       "      <td>NaN</td>\n",
       "      <td>TORONTO</td>\n",
       "      <td>NaN</td>\n",
       "      <td>NaN</td>\n",
       "      <td>NaN</td>\n",
       "      <td>NaN</td>\n",
       "      <td>NaN</td>\n",
       "      <td>NaN</td>\n",
       "      <td>NaN</td>\n",
       "    </tr>\n",
       "    <tr>\n",
       "      <th>496214</th>\n",
       "      <td>2017</td>\n",
       "      <td>IMACRO INC</td>\n",
       "      <td>0.0</td>\n",
       "      <td>NaN</td>\n",
       "      <td>1.0</td>\n",
       "      <td>NaN</td>\n",
       "      <td>32</td>\n",
       "      <td>77.0</td>\n",
       "      <td>NaN</td>\n",
       "      <td>BURLINGTON</td>\n",
       "      <td>NaN</td>\n",
       "      <td>NaN</td>\n",
       "      <td>NaN</td>\n",
       "      <td>NaN</td>\n",
       "      <td>NaN</td>\n",
       "      <td>NaN</td>\n",
       "      <td>NaN</td>\n",
       "    </tr>\n",
       "    <tr>\n",
       "      <th>496966</th>\n",
       "      <td>2017</td>\n",
       "      <td>CNT INFOTECH CORPORATION</td>\n",
       "      <td>0.0</td>\n",
       "      <td>NaN</td>\n",
       "      <td>1.0</td>\n",
       "      <td>NaN</td>\n",
       "      <td>54</td>\n",
       "      <td>1853.0</td>\n",
       "      <td>NaN</td>\n",
       "      <td>FAJARDO</td>\n",
       "      <td>NaN</td>\n",
       "      <td>NaN</td>\n",
       "      <td>NaN</td>\n",
       "      <td>NaN</td>\n",
       "      <td>NaN</td>\n",
       "      <td>NaN</td>\n",
       "      <td>NaN</td>\n",
       "    </tr>\n",
       "    <tr>\n",
       "      <th>499185</th>\n",
       "      <td>2017</td>\n",
       "      <td>LULULEMON USA INC</td>\n",
       "      <td>0.0</td>\n",
       "      <td>NaN</td>\n",
       "      <td>3.0</td>\n",
       "      <td>NaN</td>\n",
       "      <td>44</td>\n",
       "      <td>494.0</td>\n",
       "      <td>NaN</td>\n",
       "      <td>VANCOUVER</td>\n",
       "      <td>NaN</td>\n",
       "      <td>NaN</td>\n",
       "      <td>NaN</td>\n",
       "      <td>NaN</td>\n",
       "      <td>NaN</td>\n",
       "      <td>NaN</td>\n",
       "      <td>NaN</td>\n",
       "    </tr>\n",
       "    <tr>\n",
       "      <th>507272</th>\n",
       "      <td>2017</td>\n",
       "      <td>TRANSLATIONAL RSCH IN ONCOLOGY INC</td>\n",
       "      <td>0.0</td>\n",
       "      <td>NaN</td>\n",
       "      <td>1.0</td>\n",
       "      <td>NaN</td>\n",
       "      <td>54</td>\n",
       "      <td>9061.0</td>\n",
       "      <td>NaN</td>\n",
       "      <td>EDMONTON</td>\n",
       "      <td>NaN</td>\n",
       "      <td>NaN</td>\n",
       "      <td>NaN</td>\n",
       "      <td>NaN</td>\n",
       "      <td>NaN</td>\n",
       "      <td>NaN</td>\n",
       "      <td>NaN</td>\n",
       "    </tr>\n",
       "    <tr>\n",
       "      <th>507335</th>\n",
       "      <td>2017</td>\n",
       "      <td>US OIL SANDS INC</td>\n",
       "      <td>0.0</td>\n",
       "      <td>NaN</td>\n",
       "      <td>1.0</td>\n",
       "      <td>NaN</td>\n",
       "      <td>21</td>\n",
       "      <td>3285.0</td>\n",
       "      <td>NaN</td>\n",
       "      <td>CALGARY</td>\n",
       "      <td>NaN</td>\n",
       "      <td>NaN</td>\n",
       "      <td>NaN</td>\n",
       "      <td>NaN</td>\n",
       "      <td>NaN</td>\n",
       "      <td>NaN</td>\n",
       "      <td>NaN</td>\n",
       "    </tr>\n",
       "    <tr>\n",
       "      <th>510090</th>\n",
       "      <td>2018</td>\n",
       "      <td>DELOITTE CONSULTING LLP</td>\n",
       "      <td>1.0</td>\n",
       "      <td>0.0</td>\n",
       "      <td>1.0</td>\n",
       "      <td>0.0</td>\n",
       "      <td>54</td>\n",
       "      <td>4513.0</td>\n",
       "      <td>NaN</td>\n",
       "      <td>TORONTO</td>\n",
       "      <td>NaN</td>\n",
       "      <td>1.0</td>\n",
       "      <td>1.0</td>\n",
       "      <td>NaN</td>\n",
       "      <td>NaN</td>\n",
       "      <td>NaN</td>\n",
       "      <td>NaN</td>\n",
       "    </tr>\n",
       "    <tr>\n",
       "      <th>512721</th>\n",
       "      <td>2018</td>\n",
       "      <td>PRICEWATERHOUSECOOPERS LLP</td>\n",
       "      <td>1.0</td>\n",
       "      <td>0.0</td>\n",
       "      <td>0.0</td>\n",
       "      <td>0.0</td>\n",
       "      <td>54</td>\n",
       "      <td>8324.0</td>\n",
       "      <td>NaN</td>\n",
       "      <td>TORONTO</td>\n",
       "      <td>NaN</td>\n",
       "      <td>1.0</td>\n",
       "      <td>NaN</td>\n",
       "      <td>NaN</td>\n",
       "      <td>NaN</td>\n",
       "      <td>NaN</td>\n",
       "      <td>NaN</td>\n",
       "    </tr>\n",
       "    <tr>\n",
       "      <th>528524</th>\n",
       "      <td>2018</td>\n",
       "      <td>SYNAPTIVE MED USA INC</td>\n",
       "      <td>0.0</td>\n",
       "      <td>0.0</td>\n",
       "      <td>1.0</td>\n",
       "      <td>0.0</td>\n",
       "      <td>33</td>\n",
       "      <td>1241.0</td>\n",
       "      <td>NaN</td>\n",
       "      <td>TORONTO</td>\n",
       "      <td>NaN</td>\n",
       "      <td>NaN</td>\n",
       "      <td>1.0</td>\n",
       "      <td>NaN</td>\n",
       "      <td>NaN</td>\n",
       "      <td>NaN</td>\n",
       "      <td>NaN</td>\n",
       "    </tr>\n",
       "    <tr>\n",
       "      <th>531992</th>\n",
       "      <td>2018</td>\n",
       "      <td>WELLINGTON FINACNCIAL USA FUND V I</td>\n",
       "      <td>0.0</td>\n",
       "      <td>1.0</td>\n",
       "      <td>0.0</td>\n",
       "      <td>0.0</td>\n",
       "      <td>52</td>\n",
       "      <td>2989.0</td>\n",
       "      <td>NaN</td>\n",
       "      <td>TORONTO</td>\n",
       "      <td>NaN</td>\n",
       "      <td>0.0</td>\n",
       "      <td>NaN</td>\n",
       "      <td>NaN</td>\n",
       "      <td>NaN</td>\n",
       "      <td>NaN</td>\n",
       "      <td>NaN</td>\n",
       "    </tr>\n",
       "    <tr>\n",
       "      <th>543722</th>\n",
       "      <td>2018</td>\n",
       "      <td>ENERGENZ LLC</td>\n",
       "      <td>1.0</td>\n",
       "      <td>0.0</td>\n",
       "      <td>0.0</td>\n",
       "      <td>0.0</td>\n",
       "      <td>21</td>\n",
       "      <td>1971.0</td>\n",
       "      <td>NaN</td>\n",
       "      <td>HONG KONG</td>\n",
       "      <td>NaN</td>\n",
       "      <td>1.0</td>\n",
       "      <td>NaN</td>\n",
       "      <td>NaN</td>\n",
       "      <td>NaN</td>\n",
       "      <td>NaN</td>\n",
       "      <td>NaN</td>\n",
       "    </tr>\n",
       "    <tr>\n",
       "      <th>552861</th>\n",
       "      <td>2018</td>\n",
       "      <td>LULULEMON USA INC</td>\n",
       "      <td>0.0</td>\n",
       "      <td>0.0</td>\n",
       "      <td>11.0</td>\n",
       "      <td>0.0</td>\n",
       "      <td>44</td>\n",
       "      <td>494.0</td>\n",
       "      <td>NaN</td>\n",
       "      <td>VANCOUVER</td>\n",
       "      <td>NaN</td>\n",
       "      <td>NaN</td>\n",
       "      <td>1.0</td>\n",
       "      <td>NaN</td>\n",
       "      <td>NaN</td>\n",
       "      <td>NaN</td>\n",
       "      <td>NaN</td>\n",
       "    </tr>\n",
       "    <tr>\n",
       "      <th>552862</th>\n",
       "      <td>2018</td>\n",
       "      <td>LULULEMON USA INC</td>\n",
       "      <td>0.0</td>\n",
       "      <td>0.0</td>\n",
       "      <td>1.0</td>\n",
       "      <td>0.0</td>\n",
       "      <td>44</td>\n",
       "      <td>494.0</td>\n",
       "      <td>NaN</td>\n",
       "      <td>VANCOUVERE</td>\n",
       "      <td>NaN</td>\n",
       "      <td>NaN</td>\n",
       "      <td>1.0</td>\n",
       "      <td>NaN</td>\n",
       "      <td>NaN</td>\n",
       "      <td>NaN</td>\n",
       "      <td>NaN</td>\n",
       "    </tr>\n",
       "    <tr>\n",
       "      <th>566418</th>\n",
       "      <td>2019</td>\n",
       "      <td>STERLING INFOSYSTEMS INC</td>\n",
       "      <td>0.0</td>\n",
       "      <td>0.0</td>\n",
       "      <td>1.0</td>\n",
       "      <td>0.0</td>\n",
       "      <td>51</td>\n",
       "      <td>5313.0</td>\n",
       "      <td>NaN</td>\n",
       "      <td>SURREY</td>\n",
       "      <td>NaN</td>\n",
       "      <td>NaN</td>\n",
       "      <td>1.0</td>\n",
       "      <td>NaN</td>\n",
       "      <td>NaN</td>\n",
       "      <td>NaN</td>\n",
       "      <td>NaN</td>\n",
       "    </tr>\n",
       "    <tr>\n",
       "      <th>574064</th>\n",
       "      <td>2019</td>\n",
       "      <td>ROSWELL U S LLC</td>\n",
       "      <td>1.0</td>\n",
       "      <td>0.0</td>\n",
       "      <td>0.0</td>\n",
       "      <td>0.0</td>\n",
       "      <td>42</td>\n",
       "      <td>2962.0</td>\n",
       "      <td>NaN</td>\n",
       "      <td>CALGARY</td>\n",
       "      <td>NaN</td>\n",
       "      <td>1.0</td>\n",
       "      <td>NaN</td>\n",
       "      <td>NaN</td>\n",
       "      <td>NaN</td>\n",
       "      <td>NaN</td>\n",
       "      <td>NaN</td>\n",
       "    </tr>\n",
       "    <tr>\n",
       "      <th>588172</th>\n",
       "      <td>2019</td>\n",
       "      <td>PIPE &amp; PILING SUPPLIES U S A LTD</td>\n",
       "      <td>0.0</td>\n",
       "      <td>1.0</td>\n",
       "      <td>0.0</td>\n",
       "      <td>0.0</td>\n",
       "      <td>33</td>\n",
       "      <td>8491.0</td>\n",
       "      <td>NaN</td>\n",
       "      <td>CALGARY</td>\n",
       "      <td>NaN</td>\n",
       "      <td>0.0</td>\n",
       "      <td>NaN</td>\n",
       "      <td>NaN</td>\n",
       "      <td>NaN</td>\n",
       "      <td>NaN</td>\n",
       "      <td>NaN</td>\n",
       "    </tr>\n",
       "    <tr>\n",
       "      <th>607305</th>\n",
       "      <td>2019</td>\n",
       "      <td>ERNST &amp; YOUNG LLP EY GUAM</td>\n",
       "      <td>1.0</td>\n",
       "      <td>0.0</td>\n",
       "      <td>1.0</td>\n",
       "      <td>0.0</td>\n",
       "      <td>54</td>\n",
       "      <td>6565.0</td>\n",
       "      <td>NaN</td>\n",
       "      <td>TAMUNING</td>\n",
       "      <td>NaN</td>\n",
       "      <td>1.0</td>\n",
       "      <td>1.0</td>\n",
       "      <td>NaN</td>\n",
       "      <td>NaN</td>\n",
       "      <td>NaN</td>\n",
       "      <td>NaN</td>\n",
       "    </tr>\n",
       "  </tbody>\n",
       "</table>\n",
       "<p>622684 rows × 17 columns</p>\n",
       "</div>"
      ],
      "text/plain": [
       "        Fiscal Year                            Employer  Initial Approvals  Initial Denials  Continuing Approvals  Continuing Denials  NAICS  Tax ID State              City      ZIP  Initial Approvals %  Continuing Approvals %  State_initial_Approval  State_Continuing_Approval  State_initial_case_count  State_Continuing_case_count\n",
       "622683         2019                       BYTEDANCE INC                0.0              0.0                   1.0                 0.0     51  9999.0    CA        MENLO PARK  94025.0                  NaN                     1.0                0.953666                    0.98134                  225320.0                     369184.0\n",
       "253502         2013                    KWANGWON USA INC                0.0              NaN                   0.0                 NaN     31  5741.0    CA           ONTARIO  91761.0                  NaN                     NaN                0.953666                    0.98134                  225320.0                     369184.0\n",
       "253394         2013                    CHAN & ZHANG LLP                2.0              NaN                   0.0                 NaN     54  3569.0    CA       SAN GABRIEL  91776.0                  NaN                     NaN                0.953666                    0.98134                  225320.0                     369184.0\n",
       "253406         2013           ELEMENT CXI SERVICES CORP                1.0              NaN                   0.0                 NaN     33  6891.0    CA          SAN JOSE  95131.0                  NaN                     NaN                0.953666                    0.98134                  225320.0                     369184.0\n",
       "253409         2013  ADVANCED ELEMENTAL TECHNOLOGIES IN                0.0              NaN                   0.0                 NaN     99  3122.0    CA          DANVILLE  94527.0                  NaN                     NaN                0.953666                    0.98134                  225320.0                     369184.0\n",
       "253411         2013              PRIME VIEW DISPLAY INC                0.0              NaN                   1.0                 NaN     99  3736.0    CA            IRVINE  92618.0                  NaN                     NaN                0.953666                    0.98134                  225320.0                     369184.0\n",
       "253416         2013                   K S M GARMENT INC                0.0              NaN                   1.0                 NaN     31  9397.0    CA            VERNON  90058.0                  NaN                     NaN                0.953666                    0.98134                  225320.0                     369184.0\n",
       "253426         2013    PROACTIVE TECHNICAL SERVICES INC                8.0              NaN                   4.0                 NaN     54  9668.0    CA          SAN JOSE  95129.0                  NaN                     NaN                0.953666                    0.98134                  225320.0                     369184.0\n",
       "253427         2013             BEAR DATA SOLUTIONS INC                0.0              NaN                   1.0                 NaN     54  9856.0    CA     SAN FRANCISCO  94105.0                  NaN                     NaN                0.953666                    0.98134                  225320.0                     369184.0\n",
       "253428         2013                          ENLUME INC                1.0              NaN                   0.0                 NaN     54  9882.0    CA          CAMPBELL  95008.0                  NaN                     NaN                0.953666                    0.98134                  225320.0                     369184.0\n",
       "253453         2013                       SMARTPLAY INC                1.0              NaN                   0.0                 NaN     54  7090.0    CA          SAN JOSE  95134.0                  NaN                     NaN                0.953666                    0.98134                  225320.0                     369184.0\n",
       "253457         2013          ISLAND PACIFIC SYSTEMS INC                1.0              NaN                   0.0                 NaN     54  2249.0    CA            IRVINE  92614.0                  NaN                     NaN                0.953666                    0.98134                  225320.0                     369184.0\n",
       "253459         2013                      ANN CHIANG CPA                0.0              NaN                   1.0                 NaN     54  5430.0    CA          SAN JOSE  95131.0                  NaN                     NaN                0.953666                    0.98134                  225320.0                     369184.0\n",
       "253469         2013         ANTHERA PHARMACEUTICALS INC                1.0              NaN                   0.0                 NaN     32  2016.0    CA           HAYWARD  94545.0                  NaN                     NaN                0.953666                    0.98134                  225320.0                     369184.0\n",
       "253472         2013                            YELP INC               14.0              NaN                   6.0                 NaN     51  4266.0    CA     SAN FRANCISCO  94103.0                  NaN                     NaN                0.953666                    0.98134                  225320.0                     369184.0\n",
       "253473         2013                            YELP INC                1.0              NaN                   1.0                 NaN     51  4266.0    CA     SAN FRANCISCO  94105.0                  NaN                     NaN                0.953666                    0.98134                  225320.0                     369184.0\n",
       "253481         2013                       SMARTPLAY INC               15.0              NaN                   2.0                 NaN     54  7090.0    CA          SAN JOSE  95131.0                  NaN                     NaN                0.953666                    0.98134                  225320.0                     369184.0\n",
       "253482         2013                       SMARTPLAY INC              135.0              NaN                  65.0                 NaN     54  7090.0    CA          SAN JOSE  95134.0                  NaN                     NaN                0.953666                    0.98134                  225320.0                     369184.0\n",
       "253485         2013                   PAIRPOINT GRP INC                0.0              NaN                   1.0                 NaN     54   784.0    CA        SACRAMENTO  95831.0                  NaN                     NaN                0.953666                    0.98134                  225320.0                     369184.0\n",
       "253487         2013    KIRK NIX ASSO INC DBA KNA DESIGN                1.0              NaN                   0.0                 NaN     54  8993.0    CA       LOS ANGELES  90048.0                  NaN                     NaN                0.953666                    0.98134                  225320.0                     369184.0\n",
       "253493         2013  BIORX PHARMACEUTICAL INC DBA BIORX                1.0              NaN                   0.0                 NaN     32  5500.0    CA          COMMERCE  90040.0                  NaN                     NaN                0.953666                    0.98134                  225320.0                     369184.0\n",
       "592597         2019          JAMES WEE ACCOUNTANCY CORP                1.0              0.0                   0.0                 0.0     54  9569.0    CA          SAN JOSE  95129.0                  1.0                     NaN                0.953666                    0.98134                  225320.0                     369184.0\n",
       "253495         2013      PIVOT POINT CAPITAL PARTNERS L                0.0              NaN                   1.0                 NaN     52  8857.0    CA     SAN FRANCISCO  94104.0                  NaN                     NaN                0.953666                    0.98134                  225320.0                     369184.0\n",
       "253393         2013                    CHAN & ZHANG LLP                2.0              NaN                   0.0                 NaN     54  3569.0    CA   ROWLAND HEIGHTS  91748.0                  NaN                     NaN                0.953666                    0.98134                  225320.0                     369184.0\n",
       "253392         2013                    CHAN & ZHANG LLP                3.0              NaN                   0.0                 NaN     54  3569.0    CA  CITY OF INDUSTRY  91748.0                  NaN                     NaN                0.953666                    0.98134                  225320.0                     369184.0\n",
       "...             ...                                 ...                ...              ...                   ...                 ...    ...     ...   ...               ...      ...                  ...                     ...                     ...                        ...                       ...                          ...\n",
       "457588         2016                        EQUISOFT INC                1.0              NaN                   1.0                 NaN     54  7844.0   NaN          MONTREAL      NaN                  NaN                     NaN                     NaN                        NaN                       NaN                          NaN\n",
       "457618         2016              INFLUITIVE CORPORATION                0.0              NaN                   1.0                 NaN     54  2444.0   NaN           TORONTO      NaN                  NaN                     NaN                     NaN                        NaN                       NaN                          NaN\n",
       "460166         2017             DELOITTE CONSULTING LLP                1.0              NaN                   0.0                 NaN     54  4513.0   NaN           TORONTO      NaN                  NaN                     NaN                     NaN                        NaN                       NaN                          NaN\n",
       "460167         2017             DELOITTE CONSULTING LLP                0.0              NaN                   1.0                 NaN     54  4513.0   NaN          TORTONTO      NaN                  NaN                     NaN                     NaN                        NaN                       NaN                          NaN\n",
       "461745         2017   DELOITTE TOUCHE TOHMATSU SVCS INC                0.0              NaN                   1.0                 NaN     54  6681.0   NaN           TORONTO      NaN                  NaN                     NaN                     NaN                        NaN                       NaN                          NaN\n",
       "462641         2017          PRICEWATERHOUSECOOPERS LLP                0.0              NaN                   1.0                 NaN     54  8324.0   NaN           TORONTO      NaN                  NaN                     NaN                     NaN                        NaN                       NaN                          NaN\n",
       "477073         2017           SYNAPTIVE MEDICAL USA INC                1.0              NaN                   0.0                 NaN     33  1241.0   NaN           TORONTO      NaN                  NaN                     NaN                     NaN                        NaN                       NaN                          NaN\n",
       "477759         2017     SILVER STANDARD US SERVICES INC                0.0              NaN                   0.0                 NaN     21  9336.0   NaN         VANCOUVER      NaN                  NaN                     NaN                     NaN                        NaN                       NaN                          NaN\n",
       "478144         2017                 ERNST YOUNG U S LLP                0.0              NaN                   1.0                 NaN     54  5596.0   NaN           TORONTO      NaN                  NaN                     NaN                     NaN                        NaN                       NaN                          NaN\n",
       "496214         2017                          IMACRO INC                0.0              NaN                   1.0                 NaN     32    77.0   NaN        BURLINGTON      NaN                  NaN                     NaN                     NaN                        NaN                       NaN                          NaN\n",
       "496966         2017            CNT INFOTECH CORPORATION                0.0              NaN                   1.0                 NaN     54  1853.0   NaN           FAJARDO      NaN                  NaN                     NaN                     NaN                        NaN                       NaN                          NaN\n",
       "499185         2017                   LULULEMON USA INC                0.0              NaN                   3.0                 NaN     44   494.0   NaN         VANCOUVER      NaN                  NaN                     NaN                     NaN                        NaN                       NaN                          NaN\n",
       "507272         2017  TRANSLATIONAL RSCH IN ONCOLOGY INC                0.0              NaN                   1.0                 NaN     54  9061.0   NaN          EDMONTON      NaN                  NaN                     NaN                     NaN                        NaN                       NaN                          NaN\n",
       "507335         2017                    US OIL SANDS INC                0.0              NaN                   1.0                 NaN     21  3285.0   NaN           CALGARY      NaN                  NaN                     NaN                     NaN                        NaN                       NaN                          NaN\n",
       "510090         2018             DELOITTE CONSULTING LLP                1.0              0.0                   1.0                 0.0     54  4513.0   NaN           TORONTO      NaN                  1.0                     1.0                     NaN                        NaN                       NaN                          NaN\n",
       "512721         2018          PRICEWATERHOUSECOOPERS LLP                1.0              0.0                   0.0                 0.0     54  8324.0   NaN           TORONTO      NaN                  1.0                     NaN                     NaN                        NaN                       NaN                          NaN\n",
       "528524         2018               SYNAPTIVE MED USA INC                0.0              0.0                   1.0                 0.0     33  1241.0   NaN           TORONTO      NaN                  NaN                     1.0                     NaN                        NaN                       NaN                          NaN\n",
       "531992         2018  WELLINGTON FINACNCIAL USA FUND V I                0.0              1.0                   0.0                 0.0     52  2989.0   NaN           TORONTO      NaN                  0.0                     NaN                     NaN                        NaN                       NaN                          NaN\n",
       "543722         2018                        ENERGENZ LLC                1.0              0.0                   0.0                 0.0     21  1971.0   NaN         HONG KONG      NaN                  1.0                     NaN                     NaN                        NaN                       NaN                          NaN\n",
       "552861         2018                   LULULEMON USA INC                0.0              0.0                  11.0                 0.0     44   494.0   NaN         VANCOUVER      NaN                  NaN                     1.0                     NaN                        NaN                       NaN                          NaN\n",
       "552862         2018                   LULULEMON USA INC                0.0              0.0                   1.0                 0.0     44   494.0   NaN        VANCOUVERE      NaN                  NaN                     1.0                     NaN                        NaN                       NaN                          NaN\n",
       "566418         2019            STERLING INFOSYSTEMS INC                0.0              0.0                   1.0                 0.0     51  5313.0   NaN            SURREY      NaN                  NaN                     1.0                     NaN                        NaN                       NaN                          NaN\n",
       "574064         2019                     ROSWELL U S LLC                1.0              0.0                   0.0                 0.0     42  2962.0   NaN           CALGARY      NaN                  1.0                     NaN                     NaN                        NaN                       NaN                          NaN\n",
       "588172         2019    PIPE & PILING SUPPLIES U S A LTD                0.0              1.0                   0.0                 0.0     33  8491.0   NaN           CALGARY      NaN                  0.0                     NaN                     NaN                        NaN                       NaN                          NaN\n",
       "607305         2019           ERNST & YOUNG LLP EY GUAM                1.0              0.0                   1.0                 0.0     54  6565.0   NaN          TAMUNING      NaN                  1.0                     1.0                     NaN                        NaN                       NaN                          NaN\n",
       "\n",
       "[622684 rows x 17 columns]"
      ]
     },
     "execution_count": 20,
     "metadata": {},
     "output_type": "execute_result"
    }
   ],
   "source": [
    "H1B_All.sort_values(by='State_initial_case_count',ascending=False)"
   ]
  },
  {
   "cell_type": "code",
   "execution_count": 21,
   "metadata": {},
   "outputs": [
    {
     "data": {
      "text/plain": [
       "State\n",
       "\u0004     1.000000\n",
       "ID    0.982633\n",
       "VT    0.979317\n",
       "ND    0.977778\n",
       "MT    0.976982\n",
       "Name: State_initial_Approval, dtype: float64"
      ]
     },
     "execution_count": 21,
     "metadata": {},
     "output_type": "execute_result"
    }
   ],
   "source": [
    "# Sort grouped column\n",
    "H1B_All.groupby('State')['State_initial_Approval'].last().sort_values(ascending=False).head()"
   ]
  },
  {
   "cell_type": "code",
   "execution_count": 22,
   "metadata": {},
   "outputs": [],
   "source": [
    "zipcode_mapping = pd.read_csv('C:/Users/HP/Downloads/us-zip-code-latitude-and-longitude.csv',sep=';', quotechar=\";\")"
   ]
  },
  {
   "cell_type": "code",
   "execution_count": 23,
   "metadata": {},
   "outputs": [],
   "source": [
    "zipcode_mapping = zipcode_mapping[['Zip','Latitude','Longitude']]\n",
    "H1B_All_geo = H1B_All.merge(zipcode_mapping, how='left', left_on=['ZIP'], \n",
    "                         right_on=['Zip'])"
   ]
  },
  {
   "cell_type": "code",
   "execution_count": 24,
   "metadata": {},
   "outputs": [],
   "source": [
    "n=200\n",
    "Top_zip = H1B_All_geo.groupby('ZIP')['Initial Approvals'].sum().sort_values(ascending=False).reset_index().head(n)"
   ]
  },
  {
   "cell_type": "code",
   "execution_count": 25,
   "metadata": {},
   "outputs": [],
   "source": [
    "top_zipcode_list = list(Top_zip['ZIP'].astype('int64'))"
   ]
  },
  {
   "cell_type": "code",
   "execution_count": 26,
   "metadata": {},
   "outputs": [],
   "source": [
    "Lat_long_top_zipcodes = zipcode_mapping[zipcode_mapping['Zip'].isin(top_zipcode_list)]\n",
    "Lat_long_top_zipcodes = Lat_long_top_zipcodes.reset_index(drop=True)"
   ]
  },
  {
   "cell_type": "code",
   "execution_count": 27,
   "metadata": {},
   "outputs": [
    {
     "data": {
      "text/plain": [
       "<folium.map.Marker at 0xd7ac58d6a0>"
      ]
     },
     "execution_count": 27,
     "metadata": {},
     "output_type": "execute_result"
    },
    {
     "data": {
      "text/plain": [
       "<folium.map.Marker at 0xd7ac590c18>"
      ]
     },
     "execution_count": 27,
     "metadata": {},
     "output_type": "execute_result"
    },
    {
     "data": {
      "text/plain": [
       "<folium.map.Marker at 0xd7ac4c5e48>"
      ]
     },
     "execution_count": 27,
     "metadata": {},
     "output_type": "execute_result"
    },
    {
     "data": {
      "text/plain": [
       "<folium.map.Marker at 0xd7ae728438>"
      ]
     },
     "execution_count": 27,
     "metadata": {},
     "output_type": "execute_result"
    },
    {
     "data": {
      "text/plain": [
       "<folium.map.Marker at 0xd7ae7281d0>"
      ]
     },
     "execution_count": 27,
     "metadata": {},
     "output_type": "execute_result"
    },
    {
     "data": {
      "text/plain": [
       "<folium.map.Marker at 0xd7ae728048>"
      ]
     },
     "execution_count": 27,
     "metadata": {},
     "output_type": "execute_result"
    },
    {
     "data": {
      "text/plain": [
       "<folium.map.Marker at 0xd7ae7286d8>"
      ]
     },
     "execution_count": 27,
     "metadata": {},
     "output_type": "execute_result"
    },
    {
     "data": {
      "text/plain": [
       "<folium.map.Marker at 0xd7ae728860>"
      ]
     },
     "execution_count": 27,
     "metadata": {},
     "output_type": "execute_result"
    },
    {
     "data": {
      "text/plain": [
       "<folium.map.Marker at 0xd7ae7289e8>"
      ]
     },
     "execution_count": 27,
     "metadata": {},
     "output_type": "execute_result"
    },
    {
     "data": {
      "text/plain": [
       "<folium.map.Marker at 0xd7ae728b70>"
      ]
     },
     "execution_count": 27,
     "metadata": {},
     "output_type": "execute_result"
    },
    {
     "data": {
      "text/plain": [
       "<folium.map.Marker at 0xd7ae728da0>"
      ]
     },
     "execution_count": 27,
     "metadata": {},
     "output_type": "execute_result"
    },
    {
     "data": {
      "text/plain": [
       "<folium.map.Marker at 0xd7ae728e80>"
      ]
     },
     "execution_count": 27,
     "metadata": {},
     "output_type": "execute_result"
    },
    {
     "data": {
      "text/plain": [
       "<folium.map.Marker at 0xd7ac5d6048>"
      ]
     },
     "execution_count": 27,
     "metadata": {},
     "output_type": "execute_result"
    },
    {
     "data": {
      "text/plain": [
       "<folium.map.Marker at 0xd7ac5d61d0>"
      ]
     },
     "execution_count": 27,
     "metadata": {},
     "output_type": "execute_result"
    },
    {
     "data": {
      "text/plain": [
       "<folium.map.Marker at 0xd7ac5d6358>"
      ]
     },
     "execution_count": 27,
     "metadata": {},
     "output_type": "execute_result"
    },
    {
     "data": {
      "text/plain": [
       "<folium.map.Marker at 0xd7ac5d64e0>"
      ]
     },
     "execution_count": 27,
     "metadata": {},
     "output_type": "execute_result"
    },
    {
     "data": {
      "text/plain": [
       "<folium.map.Marker at 0xd7ac5d6668>"
      ]
     },
     "execution_count": 27,
     "metadata": {},
     "output_type": "execute_result"
    },
    {
     "data": {
      "text/plain": [
       "<folium.map.Marker at 0xd7ac5d67f0>"
      ]
     },
     "execution_count": 27,
     "metadata": {},
     "output_type": "execute_result"
    },
    {
     "data": {
      "text/plain": [
       "<folium.map.Marker at 0xd7ac5d6978>"
      ]
     },
     "execution_count": 27,
     "metadata": {},
     "output_type": "execute_result"
    },
    {
     "data": {
      "text/plain": [
       "<folium.map.Marker at 0xd7ac5d6b00>"
      ]
     },
     "execution_count": 27,
     "metadata": {},
     "output_type": "execute_result"
    },
    {
     "data": {
      "text/plain": [
       "<folium.map.Marker at 0xd7ac5d6c88>"
      ]
     },
     "execution_count": 27,
     "metadata": {},
     "output_type": "execute_result"
    },
    {
     "data": {
      "text/plain": [
       "<folium.map.Marker at 0xd7ac5d6e10>"
      ]
     },
     "execution_count": 27,
     "metadata": {},
     "output_type": "execute_result"
    },
    {
     "data": {
      "text/plain": [
       "<folium.map.Marker at 0xd7ac5d6fd0>"
      ]
     },
     "execution_count": 27,
     "metadata": {},
     "output_type": "execute_result"
    },
    {
     "data": {
      "text/plain": [
       "<folium.map.Marker at 0xd7ac5db160>"
      ]
     },
     "execution_count": 27,
     "metadata": {},
     "output_type": "execute_result"
    },
    {
     "data": {
      "text/plain": [
       "<folium.map.Marker at 0xd7ac5db2e8>"
      ]
     },
     "execution_count": 27,
     "metadata": {},
     "output_type": "execute_result"
    },
    {
     "data": {
      "text/plain": [
       "<folium.map.Marker at 0xd7ac5db470>"
      ]
     },
     "execution_count": 27,
     "metadata": {},
     "output_type": "execute_result"
    },
    {
     "data": {
      "text/plain": [
       "<folium.map.Marker at 0xd7ac5db5f8>"
      ]
     },
     "execution_count": 27,
     "metadata": {},
     "output_type": "execute_result"
    },
    {
     "data": {
      "text/plain": [
       "<folium.map.Marker at 0xd7ac5db780>"
      ]
     },
     "execution_count": 27,
     "metadata": {},
     "output_type": "execute_result"
    },
    {
     "data": {
      "text/plain": [
       "<folium.map.Marker at 0xd7ac5db908>"
      ]
     },
     "execution_count": 27,
     "metadata": {},
     "output_type": "execute_result"
    },
    {
     "data": {
      "text/plain": [
       "<folium.map.Marker at 0xd7ac5dba90>"
      ]
     },
     "execution_count": 27,
     "metadata": {},
     "output_type": "execute_result"
    },
    {
     "data": {
      "text/plain": [
       "<folium.map.Marker at 0xd7ac5dbc18>"
      ]
     },
     "execution_count": 27,
     "metadata": {},
     "output_type": "execute_result"
    },
    {
     "data": {
      "text/plain": [
       "<folium.map.Marker at 0xd7ac5dbda0>"
      ]
     },
     "execution_count": 27,
     "metadata": {},
     "output_type": "execute_result"
    },
    {
     "data": {
      "text/plain": [
       "<folium.map.Marker at 0xd7ac5dbf28>"
      ]
     },
     "execution_count": 27,
     "metadata": {},
     "output_type": "execute_result"
    },
    {
     "data": {
      "text/plain": [
       "<folium.map.Marker at 0xd7ae7190f0>"
      ]
     },
     "execution_count": 27,
     "metadata": {},
     "output_type": "execute_result"
    },
    {
     "data": {
      "text/plain": [
       "<folium.map.Marker at 0xd7ae719278>"
      ]
     },
     "execution_count": 27,
     "metadata": {},
     "output_type": "execute_result"
    },
    {
     "data": {
      "text/plain": [
       "<folium.map.Marker at 0xd7ae719400>"
      ]
     },
     "execution_count": 27,
     "metadata": {},
     "output_type": "execute_result"
    },
    {
     "data": {
      "text/plain": [
       "<folium.map.Marker at 0xd7ae719588>"
      ]
     },
     "execution_count": 27,
     "metadata": {},
     "output_type": "execute_result"
    },
    {
     "data": {
      "text/plain": [
       "<folium.map.Marker at 0xd7ae719710>"
      ]
     },
     "execution_count": 27,
     "metadata": {},
     "output_type": "execute_result"
    },
    {
     "data": {
      "text/plain": [
       "<folium.map.Marker at 0xd7ae719898>"
      ]
     },
     "execution_count": 27,
     "metadata": {},
     "output_type": "execute_result"
    },
    {
     "data": {
      "text/plain": [
       "<folium.map.Marker at 0xd7ae719a20>"
      ]
     },
     "execution_count": 27,
     "metadata": {},
     "output_type": "execute_result"
    },
    {
     "data": {
      "text/plain": [
       "<folium.map.Marker at 0xd7ae719ba8>"
      ]
     },
     "execution_count": 27,
     "metadata": {},
     "output_type": "execute_result"
    },
    {
     "data": {
      "text/plain": [
       "<folium.map.Marker at 0xd7ae719d30>"
      ]
     },
     "execution_count": 27,
     "metadata": {},
     "output_type": "execute_result"
    },
    {
     "data": {
      "text/plain": [
       "<folium.map.Marker at 0xd7ae719eb8>"
      ]
     },
     "execution_count": 27,
     "metadata": {},
     "output_type": "execute_result"
    },
    {
     "data": {
      "text/plain": [
       "<folium.map.Marker at 0xd7ae722080>"
      ]
     },
     "execution_count": 27,
     "metadata": {},
     "output_type": "execute_result"
    },
    {
     "data": {
      "text/plain": [
       "<folium.map.Marker at 0xd7ae7222b0>"
      ]
     },
     "execution_count": 27,
     "metadata": {},
     "output_type": "execute_result"
    },
    {
     "data": {
      "text/plain": [
       "<folium.map.Marker at 0xd7ae722390>"
      ]
     },
     "execution_count": 27,
     "metadata": {},
     "output_type": "execute_result"
    },
    {
     "data": {
      "text/plain": [
       "<folium.map.Marker at 0xd7ae722518>"
      ]
     },
     "execution_count": 27,
     "metadata": {},
     "output_type": "execute_result"
    },
    {
     "data": {
      "text/plain": [
       "<folium.map.Marker at 0xd7ae7226a0>"
      ]
     },
     "execution_count": 27,
     "metadata": {},
     "output_type": "execute_result"
    },
    {
     "data": {
      "text/plain": [
       "<folium.map.Marker at 0xd7ae722828>"
      ]
     },
     "execution_count": 27,
     "metadata": {},
     "output_type": "execute_result"
    },
    {
     "data": {
      "text/plain": [
       "<folium.map.Marker at 0xd7ae7229b0>"
      ]
     },
     "execution_count": 27,
     "metadata": {},
     "output_type": "execute_result"
    },
    {
     "data": {
      "text/plain": [
       "<folium.map.Marker at 0xd7ae722b38>"
      ]
     },
     "execution_count": 27,
     "metadata": {},
     "output_type": "execute_result"
    },
    {
     "data": {
      "text/plain": [
       "<folium.map.Marker at 0xd7ae722cc0>"
      ]
     },
     "execution_count": 27,
     "metadata": {},
     "output_type": "execute_result"
    },
    {
     "data": {
      "text/plain": [
       "<folium.map.Marker at 0xd7ae722e48>"
      ]
     },
     "execution_count": 27,
     "metadata": {},
     "output_type": "execute_result"
    },
    {
     "data": {
      "text/plain": [
       "<folium.map.Marker at 0xd7ae722fd0>"
      ]
     },
     "execution_count": 27,
     "metadata": {},
     "output_type": "execute_result"
    },
    {
     "data": {
      "text/plain": [
       "<folium.map.Marker at 0xd7ae731240>"
      ]
     },
     "execution_count": 27,
     "metadata": {},
     "output_type": "execute_result"
    },
    {
     "data": {
      "text/plain": [
       "<folium.map.Marker at 0xd7ae731320>"
      ]
     },
     "execution_count": 27,
     "metadata": {},
     "output_type": "execute_result"
    },
    {
     "data": {
      "text/plain": [
       "<folium.map.Marker at 0xd7ae7314a8>"
      ]
     },
     "execution_count": 27,
     "metadata": {},
     "output_type": "execute_result"
    },
    {
     "data": {
      "text/plain": [
       "<folium.map.Marker at 0xd7ae731630>"
      ]
     },
     "execution_count": 27,
     "metadata": {},
     "output_type": "execute_result"
    },
    {
     "data": {
      "text/plain": [
       "<folium.map.Marker at 0xd7ae731860>"
      ]
     },
     "execution_count": 27,
     "metadata": {},
     "output_type": "execute_result"
    },
    {
     "data": {
      "text/plain": [
       "<folium.map.Marker at 0xd7ae731940>"
      ]
     },
     "execution_count": 27,
     "metadata": {},
     "output_type": "execute_result"
    },
    {
     "data": {
      "text/plain": [
       "<folium.map.Marker at 0xd7ae731ac8>"
      ]
     },
     "execution_count": 27,
     "metadata": {},
     "output_type": "execute_result"
    },
    {
     "data": {
      "text/plain": [
       "<folium.map.Marker at 0xd7ae731c50>"
      ]
     },
     "execution_count": 27,
     "metadata": {},
     "output_type": "execute_result"
    },
    {
     "data": {
      "text/plain": [
       "<folium.map.Marker at 0xd7ae731dd8>"
      ]
     },
     "execution_count": 27,
     "metadata": {},
     "output_type": "execute_result"
    },
    {
     "data": {
      "text/plain": [
       "<folium.map.Marker at 0xd7ae731f60>"
      ]
     },
     "execution_count": 27,
     "metadata": {},
     "output_type": "execute_result"
    },
    {
     "data": {
      "text/plain": [
       "<folium.map.Marker at 0xd7b02ce128>"
      ]
     },
     "execution_count": 27,
     "metadata": {},
     "output_type": "execute_result"
    },
    {
     "data": {
      "text/plain": [
       "<folium.map.Marker at 0xd7b02ce2b0>"
      ]
     },
     "execution_count": 27,
     "metadata": {},
     "output_type": "execute_result"
    },
    {
     "data": {
      "text/plain": [
       "<folium.map.Marker at 0xd7b02ce438>"
      ]
     },
     "execution_count": 27,
     "metadata": {},
     "output_type": "execute_result"
    },
    {
     "data": {
      "text/plain": [
       "<folium.map.Marker at 0xd7b02ce5c0>"
      ]
     },
     "execution_count": 27,
     "metadata": {},
     "output_type": "execute_result"
    },
    {
     "data": {
      "text/plain": [
       "<folium.map.Marker at 0xd7b02ce748>"
      ]
     },
     "execution_count": 27,
     "metadata": {},
     "output_type": "execute_result"
    },
    {
     "data": {
      "text/plain": [
       "<folium.map.Marker at 0xd7b02ce8d0>"
      ]
     },
     "execution_count": 27,
     "metadata": {},
     "output_type": "execute_result"
    },
    {
     "data": {
      "text/plain": [
       "<folium.map.Marker at 0xd7b02cea58>"
      ]
     },
     "execution_count": 27,
     "metadata": {},
     "output_type": "execute_result"
    },
    {
     "data": {
      "text/plain": [
       "<folium.map.Marker at 0xd7b02cec88>"
      ]
     },
     "execution_count": 27,
     "metadata": {},
     "output_type": "execute_result"
    },
    {
     "data": {
      "text/plain": [
       "<folium.map.Marker at 0xd7b02ced68>"
      ]
     },
     "execution_count": 27,
     "metadata": {},
     "output_type": "execute_result"
    },
    {
     "data": {
      "text/plain": [
       "<folium.map.Marker at 0xd7b02ceef0>"
      ]
     },
     "execution_count": 27,
     "metadata": {},
     "output_type": "execute_result"
    },
    {
     "data": {
      "text/plain": [
       "<folium.map.Marker at 0xd7b02c10b8>"
      ]
     },
     "execution_count": 27,
     "metadata": {},
     "output_type": "execute_result"
    },
    {
     "data": {
      "text/plain": [
       "<folium.map.Marker at 0xd7b02c1240>"
      ]
     },
     "execution_count": 27,
     "metadata": {},
     "output_type": "execute_result"
    },
    {
     "data": {
      "text/plain": [
       "<folium.map.Marker at 0xd7b02c13c8>"
      ]
     },
     "execution_count": 27,
     "metadata": {},
     "output_type": "execute_result"
    },
    {
     "data": {
      "text/plain": [
       "<folium.map.Marker at 0xd7b02c1550>"
      ]
     },
     "execution_count": 27,
     "metadata": {},
     "output_type": "execute_result"
    },
    {
     "data": {
      "text/plain": [
       "<folium.map.Marker at 0xd7b02c16d8>"
      ]
     },
     "execution_count": 27,
     "metadata": {},
     "output_type": "execute_result"
    },
    {
     "data": {
      "text/plain": [
       "<folium.map.Marker at 0xd7b02c1860>"
      ]
     },
     "execution_count": 27,
     "metadata": {},
     "output_type": "execute_result"
    },
    {
     "data": {
      "text/plain": [
       "<folium.map.Marker at 0xd7b02c19e8>"
      ]
     },
     "execution_count": 27,
     "metadata": {},
     "output_type": "execute_result"
    },
    {
     "data": {
      "text/plain": [
       "<folium.map.Marker at 0xd7b02c1b70>"
      ]
     },
     "execution_count": 27,
     "metadata": {},
     "output_type": "execute_result"
    },
    {
     "data": {
      "text/plain": [
       "<folium.map.Marker at 0xd7b02c1cf8>"
      ]
     },
     "execution_count": 27,
     "metadata": {},
     "output_type": "execute_result"
    },
    {
     "data": {
      "text/plain": [
       "<folium.map.Marker at 0xd7b02c1e80>"
      ]
     },
     "execution_count": 27,
     "metadata": {},
     "output_type": "execute_result"
    },
    {
     "data": {
      "text/plain": [
       "<folium.map.Marker at 0xd7b02a9048>"
      ]
     },
     "execution_count": 27,
     "metadata": {},
     "output_type": "execute_result"
    },
    {
     "data": {
      "text/plain": [
       "<folium.map.Marker at 0xd7b02a9278>"
      ]
     },
     "execution_count": 27,
     "metadata": {},
     "output_type": "execute_result"
    },
    {
     "data": {
      "text/plain": [
       "<folium.map.Marker at 0xd7b02a9358>"
      ]
     },
     "execution_count": 27,
     "metadata": {},
     "output_type": "execute_result"
    },
    {
     "data": {
      "text/plain": [
       "<folium.map.Marker at 0xd7b02a94e0>"
      ]
     },
     "execution_count": 27,
     "metadata": {},
     "output_type": "execute_result"
    },
    {
     "data": {
      "text/plain": [
       "<folium.map.Marker at 0xd7b02a9668>"
      ]
     },
     "execution_count": 27,
     "metadata": {},
     "output_type": "execute_result"
    },
    {
     "data": {
      "text/plain": [
       "<folium.map.Marker at 0xd7b02a97f0>"
      ]
     },
     "execution_count": 27,
     "metadata": {},
     "output_type": "execute_result"
    },
    {
     "data": {
      "text/plain": [
       "<folium.map.Marker at 0xd7b02a9978>"
      ]
     },
     "execution_count": 27,
     "metadata": {},
     "output_type": "execute_result"
    },
    {
     "data": {
      "text/plain": [
       "<folium.map.Marker at 0xd7b02a9b00>"
      ]
     },
     "execution_count": 27,
     "metadata": {},
     "output_type": "execute_result"
    },
    {
     "data": {
      "text/plain": [
       "<folium.map.Marker at 0xd7b02a9c88>"
      ]
     },
     "execution_count": 27,
     "metadata": {},
     "output_type": "execute_result"
    },
    {
     "data": {
      "text/plain": [
       "<folium.map.Marker at 0xd7b02a9e10>"
      ]
     },
     "execution_count": 27,
     "metadata": {},
     "output_type": "execute_result"
    },
    {
     "data": {
      "text/plain": [
       "<folium.map.Marker at 0xd7b02a9fd0>"
      ]
     },
     "execution_count": 27,
     "metadata": {},
     "output_type": "execute_result"
    },
    {
     "data": {
      "text/plain": [
       "<folium.map.Marker at 0xd7b029b240>"
      ]
     },
     "execution_count": 27,
     "metadata": {},
     "output_type": "execute_result"
    },
    {
     "data": {
      "text/plain": [
       "<folium.map.Marker at 0xd7b029b208>"
      ]
     },
     "execution_count": 27,
     "metadata": {},
     "output_type": "execute_result"
    },
    {
     "data": {
      "text/plain": [
       "<folium.map.Marker at 0xd7b029b4e0>"
      ]
     },
     "execution_count": 27,
     "metadata": {},
     "output_type": "execute_result"
    },
    {
     "data": {
      "text/plain": [
       "<folium.map.Marker at 0xd7b029b470>"
      ]
     },
     "execution_count": 27,
     "metadata": {},
     "output_type": "execute_result"
    },
    {
     "data": {
      "text/plain": [
       "<folium.map.Marker at 0xd7b029b780>"
      ]
     },
     "execution_count": 27,
     "metadata": {},
     "output_type": "execute_result"
    },
    {
     "data": {
      "text/plain": [
       "<folium.map.Marker at 0xd7b029b908>"
      ]
     },
     "execution_count": 27,
     "metadata": {},
     "output_type": "execute_result"
    },
    {
     "data": {
      "text/plain": [
       "<folium.map.Marker at 0xd7b029ba90>"
      ]
     },
     "execution_count": 27,
     "metadata": {},
     "output_type": "execute_result"
    },
    {
     "data": {
      "text/plain": [
       "<folium.map.Marker at 0xd7b029bc18>"
      ]
     },
     "execution_count": 27,
     "metadata": {},
     "output_type": "execute_result"
    },
    {
     "data": {
      "text/plain": [
       "<folium.map.Marker at 0xd7b029be48>"
      ]
     },
     "execution_count": 27,
     "metadata": {},
     "output_type": "execute_result"
    },
    {
     "data": {
      "text/plain": [
       "<folium.map.Marker at 0xd7b029bf28>"
      ]
     },
     "execution_count": 27,
     "metadata": {},
     "output_type": "execute_result"
    },
    {
     "data": {
      "text/plain": [
       "<folium.map.Marker at 0xd7ac8e90f0>"
      ]
     },
     "execution_count": 27,
     "metadata": {},
     "output_type": "execute_result"
    },
    {
     "data": {
      "text/plain": [
       "<folium.map.Marker at 0xd7ac8e9278>"
      ]
     },
     "execution_count": 27,
     "metadata": {},
     "output_type": "execute_result"
    },
    {
     "data": {
      "text/plain": [
       "<folium.map.Marker at 0xd7ac8e9400>"
      ]
     },
     "execution_count": 27,
     "metadata": {},
     "output_type": "execute_result"
    },
    {
     "data": {
      "text/plain": [
       "<folium.map.Marker at 0xd7ac8e9588>"
      ]
     },
     "execution_count": 27,
     "metadata": {},
     "output_type": "execute_result"
    },
    {
     "data": {
      "text/plain": [
       "<folium.map.Marker at 0xd7ac8e97b8>"
      ]
     },
     "execution_count": 27,
     "metadata": {},
     "output_type": "execute_result"
    },
    {
     "data": {
      "text/plain": [
       "<folium.map.Marker at 0xd7ac8e9898>"
      ]
     },
     "execution_count": 27,
     "metadata": {},
     "output_type": "execute_result"
    },
    {
     "data": {
      "text/plain": [
       "<folium.map.Marker at 0xd7ac8e9a20>"
      ]
     },
     "execution_count": 27,
     "metadata": {},
     "output_type": "execute_result"
    },
    {
     "data": {
      "text/plain": [
       "<folium.map.Marker at 0xd7ac8e9ba8>"
      ]
     },
     "execution_count": 27,
     "metadata": {},
     "output_type": "execute_result"
    },
    {
     "data": {
      "text/plain": [
       "<folium.map.Marker at 0xd7ac8e9d30>"
      ]
     },
     "execution_count": 27,
     "metadata": {},
     "output_type": "execute_result"
    },
    {
     "data": {
      "text/plain": [
       "<folium.map.Marker at 0xd7ac8e9eb8>"
      ]
     },
     "execution_count": 27,
     "metadata": {},
     "output_type": "execute_result"
    },
    {
     "data": {
      "text/plain": [
       "<folium.map.Marker at 0xd7ac8f70b8>"
      ]
     },
     "execution_count": 27,
     "metadata": {},
     "output_type": "execute_result"
    },
    {
     "data": {
      "text/plain": [
       "<folium.map.Marker at 0xd7ac8f7208>"
      ]
     },
     "execution_count": 27,
     "metadata": {},
     "output_type": "execute_result"
    },
    {
     "data": {
      "text/plain": [
       "<folium.map.Marker at 0xd7ac8f7390>"
      ]
     },
     "execution_count": 27,
     "metadata": {},
     "output_type": "execute_result"
    },
    {
     "data": {
      "text/plain": [
       "<folium.map.Marker at 0xd7ac8f7518>"
      ]
     },
     "execution_count": 27,
     "metadata": {},
     "output_type": "execute_result"
    },
    {
     "data": {
      "text/plain": [
       "<folium.map.Marker at 0xd7ac8f76a0>"
      ]
     },
     "execution_count": 27,
     "metadata": {},
     "output_type": "execute_result"
    },
    {
     "data": {
      "text/plain": [
       "<folium.map.Marker at 0xd7ac8f7828>"
      ]
     },
     "execution_count": 27,
     "metadata": {},
     "output_type": "execute_result"
    },
    {
     "data": {
      "text/plain": [
       "<folium.map.Marker at 0xd7ac8f79b0>"
      ]
     },
     "execution_count": 27,
     "metadata": {},
     "output_type": "execute_result"
    },
    {
     "data": {
      "text/plain": [
       "<folium.map.Marker at 0xd7ac8f7be0>"
      ]
     },
     "execution_count": 27,
     "metadata": {},
     "output_type": "execute_result"
    },
    {
     "data": {
      "text/plain": [
       "<folium.map.Marker at 0xd7ac8f7d68>"
      ]
     },
     "execution_count": 27,
     "metadata": {},
     "output_type": "execute_result"
    },
    {
     "data": {
      "text/plain": [
       "<folium.map.Marker at 0xd7ac8f7e48>"
      ]
     },
     "execution_count": 27,
     "metadata": {},
     "output_type": "execute_result"
    },
    {
     "data": {
      "text/plain": [
       "<folium.map.Marker at 0xd7ac8f7fd0>"
      ]
     },
     "execution_count": 27,
     "metadata": {},
     "output_type": "execute_result"
    },
    {
     "data": {
      "text/plain": [
       "<folium.map.Marker at 0xd7ac90c198>"
      ]
     },
     "execution_count": 27,
     "metadata": {},
     "output_type": "execute_result"
    },
    {
     "data": {
      "text/plain": [
       "<folium.map.Marker at 0xd7ac90c320>"
      ]
     },
     "execution_count": 27,
     "metadata": {},
     "output_type": "execute_result"
    },
    {
     "data": {
      "text/plain": [
       "<folium.map.Marker at 0xd7ac90c4a8>"
      ]
     },
     "execution_count": 27,
     "metadata": {},
     "output_type": "execute_result"
    },
    {
     "data": {
      "text/plain": [
       "<folium.map.Marker at 0xd7ac90c630>"
      ]
     },
     "execution_count": 27,
     "metadata": {},
     "output_type": "execute_result"
    },
    {
     "data": {
      "text/plain": [
       "<folium.map.Marker at 0xd7ac90c7b8>"
      ]
     },
     "execution_count": 27,
     "metadata": {},
     "output_type": "execute_result"
    },
    {
     "data": {
      "text/plain": [
       "<folium.map.Marker at 0xd7ac90c940>"
      ]
     },
     "execution_count": 27,
     "metadata": {},
     "output_type": "execute_result"
    },
    {
     "data": {
      "text/plain": [
       "<folium.map.Marker at 0xd7ac90cb70>"
      ]
     },
     "execution_count": 27,
     "metadata": {},
     "output_type": "execute_result"
    },
    {
     "data": {
      "text/plain": [
       "<folium.map.Marker at 0xd7ac90cc50>"
      ]
     },
     "execution_count": 27,
     "metadata": {},
     "output_type": "execute_result"
    },
    {
     "data": {
      "text/plain": [
       "<folium.map.Marker at 0xd7ac90cdd8>"
      ]
     },
     "execution_count": 27,
     "metadata": {},
     "output_type": "execute_result"
    },
    {
     "data": {
      "text/plain": [
       "<folium.map.Marker at 0xd7ac90cf60>"
      ]
     },
     "execution_count": 27,
     "metadata": {},
     "output_type": "execute_result"
    },
    {
     "data": {
      "text/plain": [
       "<folium.map.Marker at 0xd7ac910128>"
      ]
     },
     "execution_count": 27,
     "metadata": {},
     "output_type": "execute_result"
    },
    {
     "data": {
      "text/plain": [
       "<folium.map.Marker at 0xd7ac9102b0>"
      ]
     },
     "execution_count": 27,
     "metadata": {},
     "output_type": "execute_result"
    },
    {
     "data": {
      "text/plain": [
       "<folium.map.Marker at 0xd7ac910438>"
      ]
     },
     "execution_count": 27,
     "metadata": {},
     "output_type": "execute_result"
    },
    {
     "data": {
      "text/plain": [
       "<folium.map.Marker at 0xd7ac9105c0>"
      ]
     },
     "execution_count": 27,
     "metadata": {},
     "output_type": "execute_result"
    },
    {
     "data": {
      "text/plain": [
       "<folium.map.Marker at 0xd7ac910748>"
      ]
     },
     "execution_count": 27,
     "metadata": {},
     "output_type": "execute_result"
    },
    {
     "data": {
      "text/plain": [
       "<folium.map.Marker at 0xd7ac9108d0>"
      ]
     },
     "execution_count": 27,
     "metadata": {},
     "output_type": "execute_result"
    },
    {
     "data": {
      "text/plain": [
       "<folium.map.Marker at 0xd7ac910a58>"
      ]
     },
     "execution_count": 27,
     "metadata": {},
     "output_type": "execute_result"
    },
    {
     "data": {
      "text/plain": [
       "<folium.map.Marker at 0xd7ac910be0>"
      ]
     },
     "execution_count": 27,
     "metadata": {},
     "output_type": "execute_result"
    },
    {
     "data": {
      "text/plain": [
       "<folium.map.Marker at 0xd7ac910d68>"
      ]
     },
     "execution_count": 27,
     "metadata": {},
     "output_type": "execute_result"
    },
    {
     "data": {
      "text/plain": [
       "<folium.map.Marker at 0xd7ac910ef0>"
      ]
     },
     "execution_count": 27,
     "metadata": {},
     "output_type": "execute_result"
    },
    {
     "data": {
      "text/plain": [
       "<folium.map.Marker at 0xd7ae6850b8>"
      ]
     },
     "execution_count": 27,
     "metadata": {},
     "output_type": "execute_result"
    },
    {
     "data": {
      "text/plain": [
       "<folium.map.Marker at 0xd7ae685240>"
      ]
     },
     "execution_count": 27,
     "metadata": {},
     "output_type": "execute_result"
    },
    {
     "data": {
      "text/plain": [
       "<folium.map.Marker at 0xd7ae6853c8>"
      ]
     },
     "execution_count": 27,
     "metadata": {},
     "output_type": "execute_result"
    },
    {
     "data": {
      "text/plain": [
       "<folium.map.Marker at 0xd7ae685550>"
      ]
     },
     "execution_count": 27,
     "metadata": {},
     "output_type": "execute_result"
    },
    {
     "data": {
      "text/plain": [
       "<folium.map.Marker at 0xd7ae6856d8>"
      ]
     },
     "execution_count": 27,
     "metadata": {},
     "output_type": "execute_result"
    },
    {
     "data": {
      "text/plain": [
       "<folium.map.Marker at 0xd7ae685860>"
      ]
     },
     "execution_count": 27,
     "metadata": {},
     "output_type": "execute_result"
    },
    {
     "data": {
      "text/plain": [
       "<folium.map.Marker at 0xd7ae6859e8>"
      ]
     },
     "execution_count": 27,
     "metadata": {},
     "output_type": "execute_result"
    },
    {
     "data": {
      "text/plain": [
       "<folium.map.Marker at 0xd7ae685b70>"
      ]
     },
     "execution_count": 27,
     "metadata": {},
     "output_type": "execute_result"
    },
    {
     "data": {
      "text/plain": [
       "<folium.map.Marker at 0xd7ae685cf8>"
      ]
     },
     "execution_count": 27,
     "metadata": {},
     "output_type": "execute_result"
    },
    {
     "data": {
      "text/plain": [
       "<folium.map.Marker at 0xd7ae685e80>"
      ]
     },
     "execution_count": 27,
     "metadata": {},
     "output_type": "execute_result"
    },
    {
     "data": {
      "text/plain": [
       "<folium.map.Marker at 0xd7ae69e048>"
      ]
     },
     "execution_count": 27,
     "metadata": {},
     "output_type": "execute_result"
    },
    {
     "data": {
      "text/plain": [
       "<folium.map.Marker at 0xd7ae69e1d0>"
      ]
     },
     "execution_count": 27,
     "metadata": {},
     "output_type": "execute_result"
    },
    {
     "data": {
      "text/plain": [
       "<folium.map.Marker at 0xd7ae69e358>"
      ]
     },
     "execution_count": 27,
     "metadata": {},
     "output_type": "execute_result"
    },
    {
     "data": {
      "text/plain": [
       "<folium.map.Marker at 0xd7ae69e4e0>"
      ]
     },
     "execution_count": 27,
     "metadata": {},
     "output_type": "execute_result"
    },
    {
     "data": {
      "text/plain": [
       "<folium.map.Marker at 0xd7ae69e668>"
      ]
     },
     "execution_count": 27,
     "metadata": {},
     "output_type": "execute_result"
    },
    {
     "data": {
      "text/plain": [
       "<folium.map.Marker at 0xd7ae69e7f0>"
      ]
     },
     "execution_count": 27,
     "metadata": {},
     "output_type": "execute_result"
    },
    {
     "data": {
      "text/plain": [
       "<folium.map.Marker at 0xd7ae69e978>"
      ]
     },
     "execution_count": 27,
     "metadata": {},
     "output_type": "execute_result"
    },
    {
     "data": {
      "text/plain": [
       "<folium.map.Marker at 0xd7ae69eb00>"
      ]
     },
     "execution_count": 27,
     "metadata": {},
     "output_type": "execute_result"
    },
    {
     "data": {
      "text/plain": [
       "<folium.map.Marker at 0xd7ae69ec88>"
      ]
     },
     "execution_count": 27,
     "metadata": {},
     "output_type": "execute_result"
    },
    {
     "data": {
      "text/plain": [
       "<folium.map.Marker at 0xd7ae69ee10>"
      ]
     },
     "execution_count": 27,
     "metadata": {},
     "output_type": "execute_result"
    },
    {
     "data": {
      "text/plain": [
       "<folium.map.Marker at 0xd7ae69efd0>"
      ]
     },
     "execution_count": 27,
     "metadata": {},
     "output_type": "execute_result"
    },
    {
     "data": {
      "text/plain": [
       "<folium.map.Marker at 0xd7ae6b1160>"
      ]
     },
     "execution_count": 27,
     "metadata": {},
     "output_type": "execute_result"
    },
    {
     "data": {
      "text/plain": [
       "<folium.map.Marker at 0xd7ae6b1390>"
      ]
     },
     "execution_count": 27,
     "metadata": {},
     "output_type": "execute_result"
    },
    {
     "data": {
      "text/plain": [
       "<folium.map.Marker at 0xd7ae6b1470>"
      ]
     },
     "execution_count": 27,
     "metadata": {},
     "output_type": "execute_result"
    },
    {
     "data": {
      "text/plain": [
       "<folium.map.Marker at 0xd7ae6b16a0>"
      ]
     },
     "execution_count": 27,
     "metadata": {},
     "output_type": "execute_result"
    },
    {
     "data": {
      "text/plain": [
       "<folium.map.Marker at 0xd7ae6b1780>"
      ]
     },
     "execution_count": 27,
     "metadata": {},
     "output_type": "execute_result"
    },
    {
     "data": {
      "text/plain": [
       "<folium.map.Marker at 0xd7ac571b00>"
      ]
     },
     "execution_count": 27,
     "metadata": {},
     "output_type": "execute_result"
    },
    {
     "data": {
      "text/plain": [
       "<folium.map.Marker at 0xd7ae6b1908>"
      ]
     },
     "execution_count": 27,
     "metadata": {},
     "output_type": "execute_result"
    },
    {
     "data": {
      "text/plain": [
       "<folium.map.Marker at 0xd7ae6b1a90>"
      ]
     },
     "execution_count": 27,
     "metadata": {},
     "output_type": "execute_result"
    },
    {
     "data": {
      "text/plain": [
       "<folium.map.Marker at 0xd7ae6b1c18>"
      ]
     },
     "execution_count": 27,
     "metadata": {},
     "output_type": "execute_result"
    },
    {
     "data": {
      "text/plain": [
       "<folium.map.Marker at 0xd7ae6b1da0>"
      ]
     },
     "execution_count": 27,
     "metadata": {},
     "output_type": "execute_result"
    },
    {
     "data": {
      "text/plain": [
       "<folium.map.Marker at 0xd7ae6b1f28>"
      ]
     },
     "execution_count": 27,
     "metadata": {},
     "output_type": "execute_result"
    },
    {
     "data": {
      "text/plain": [
       "<folium.map.Marker at 0xd7ae6c0198>"
      ]
     },
     "execution_count": 27,
     "metadata": {},
     "output_type": "execute_result"
    },
    {
     "data": {
      "text/plain": [
       "<folium.map.Marker at 0xd7ae6c0278>"
      ]
     },
     "execution_count": 27,
     "metadata": {},
     "output_type": "execute_result"
    },
    {
     "data": {
      "text/plain": [
       "<folium.map.Marker at 0xd7ae6c0400>"
      ]
     },
     "execution_count": 27,
     "metadata": {},
     "output_type": "execute_result"
    },
    {
     "data": {
      "text/plain": [
       "<folium.map.Marker at 0xd7ae6c0630>"
      ]
     },
     "execution_count": 27,
     "metadata": {},
     "output_type": "execute_result"
    },
    {
     "data": {
      "text/plain": [
       "<folium.map.Marker at 0xd7ae6c07b8>"
      ]
     },
     "execution_count": 27,
     "metadata": {},
     "output_type": "execute_result"
    },
    {
     "data": {
      "text/plain": [
       "<folium.map.Marker at 0xd7ae6c0898>"
      ]
     },
     "execution_count": 27,
     "metadata": {},
     "output_type": "execute_result"
    },
    {
     "data": {
      "text/plain": [
       "<folium.map.Marker at 0xd7ae6c0ac8>"
      ]
     },
     "execution_count": 27,
     "metadata": {},
     "output_type": "execute_result"
    },
    {
     "data": {
      "text/plain": [
       "<folium.map.Marker at 0xd7ae6c0ba8>"
      ]
     },
     "execution_count": 27,
     "metadata": {},
     "output_type": "execute_result"
    },
    {
     "data": {
      "text/plain": [
       "<folium.map.Marker at 0xd7ae6c0d30>"
      ]
     },
     "execution_count": 27,
     "metadata": {},
     "output_type": "execute_result"
    },
    {
     "data": {
      "text/plain": [
       "<folium.map.Marker at 0xd7ae6c0eb8>"
      ]
     },
     "execution_count": 27,
     "metadata": {},
     "output_type": "execute_result"
    },
    {
     "data": {
      "text/plain": [
       "<folium.map.Marker at 0xd7ae6d4080>"
      ]
     },
     "execution_count": 27,
     "metadata": {},
     "output_type": "execute_result"
    },
    {
     "data": {
      "text/plain": [
       "<folium.map.Marker at 0xd7ae6d4208>"
      ]
     },
     "execution_count": 27,
     "metadata": {},
     "output_type": "execute_result"
    },
    {
     "data": {
      "text/plain": [
       "<folium.map.Marker at 0xd7ae6d4390>"
      ]
     },
     "execution_count": 27,
     "metadata": {},
     "output_type": "execute_result"
    },
    {
     "data": {
      "text/plain": [
       "<folium.map.Marker at 0xd7ae6d4518>"
      ]
     },
     "execution_count": 27,
     "metadata": {},
     "output_type": "execute_result"
    },
    {
     "data": {
      "text/plain": [
       "<folium.map.Marker at 0xd7ae6d46a0>"
      ]
     },
     "execution_count": 27,
     "metadata": {},
     "output_type": "execute_result"
    },
    {
     "data": {
      "text/plain": [
       "<folium.map.Marker at 0xd7ae6d4828>"
      ]
     },
     "execution_count": 27,
     "metadata": {},
     "output_type": "execute_result"
    },
    {
     "data": {
      "text/plain": [
       "<folium.map.Marker at 0xd7ae6d49b0>"
      ]
     },
     "execution_count": 27,
     "metadata": {},
     "output_type": "execute_result"
    },
    {
     "data": {
      "text/plain": [
       "<folium.map.Marker at 0xd7ae6d4be0>"
      ]
     },
     "execution_count": 27,
     "metadata": {},
     "output_type": "execute_result"
    },
    {
     "data": {
      "text/plain": [
       "<folium.map.Marker at 0xd7ae6d4d68>"
      ]
     },
     "execution_count": 27,
     "metadata": {},
     "output_type": "execute_result"
    },
    {
     "data": {
      "text/plain": [
       "<folium.map.Marker at 0xd7ae6d4e48>"
      ]
     },
     "execution_count": 27,
     "metadata": {},
     "output_type": "execute_result"
    },
    {
     "data": {
      "text/plain": [
       "<folium.map.Marker at 0xd7ae6d4fd0>"
      ]
     },
     "execution_count": 27,
     "metadata": {},
     "output_type": "execute_result"
    }
   ],
   "source": [
    "map_data = folium.Map(location=[43.8333333, -95.585522], zoom_start=4, tiles='Stamen Terrain',prefer_canvas=False)\n",
    "    \n",
    "for i in range(n):\n",
    "    try:\n",
    "        folium.Marker(\n",
    "        location=[ Lat_long_top_zipcodes['Latitude'][i], Lat_long_top_zipcodes['Longitude'][i]], fill_color='#43d9de', radius=6,\n",
    "        popup='Top zip code for H1-B approvals',\n",
    "        icon=folium.Icon(color='red', icon='info-sign')).add_to(map_data)   \n",
    "    except:\n",
    "        continue        "
   ]
  },
  {
   "cell_type": "code",
   "execution_count": 28,
   "metadata": {},
   "outputs": [
    {
     "data": {
      "text/html": [
       "<div style=\"width:100%;\"><div style=\"position:relative;width:100%;height:0;padding-bottom:60%;\"><iframe src=\"about:blank\" style=\"position:absolute;width:100%;height:100%;left:0;top:0;border:none !important;\" data-html=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 onload=\"this.contentDocument.open();this.contentDocument.write(atob(this.getAttribute('data-html')));this.contentDocument.close();\" allowfullscreen webkitallowfullscreen mozallowfullscreen></iframe></div></div>"
      ],
      "text/plain": [
       "<folium.folium.Map at 0xd7ac58d2e8>"
      ]
     },
     "execution_count": 28,
     "metadata": {},
     "output_type": "execute_result"
    }
   ],
   "source": [
    "map_data"
   ]
  },
  {
   "cell_type": "code",
   "execution_count": null,
   "metadata": {},
   "outputs": [],
   "source": [
    "# Best states\n",
    "H1B_All_geo.head()"
   ]
  },
  {
   "cell_type": "code",
   "execution_count": null,
   "metadata": {},
   "outputs": [],
   "source": [
    "State_cases = H1B_All_geo.groupby(['Fiscal Year','State'])['State_initial_case_count'].last().reset_index().sort_values(by='State')"
   ]
  },
  {
   "cell_type": "code",
   "execution_count": null,
   "metadata": {},
   "outputs": [],
   "source": [
    "fig, ax = plt.subplots()\n",
    "sns.barplot(x = State_cases['State'], y = State_cases['State_initial_case_count'])\n",
    "fig.set_size_inches(25, 6)\n",
    "plt.xticks(rotation=90)"
   ]
  },
  {
   "cell_type": "code",
   "execution_count": null,
   "metadata": {},
   "outputs": [],
   "source": [
    "State_cases['State_initial_case_count'].plot(kind='box', subplots=True, sharex=False, sharey=False)\n",
    "# These exceptionaly high cases would makes these states as top runners for H1-B filings"
   ]
  }
 ],
 "metadata": {
  "kernelspec": {
   "display_name": "Python 3",
   "language": "python",
   "name": "python3"
  },
  "language_info": {
   "codemirror_mode": {
    "name": "ipython",
    "version": 3
   },
   "file_extension": ".py",
   "mimetype": "text/x-python",
   "name": "python",
   "nbconvert_exporter": "python",
   "pygments_lexer": "ipython3",
   "version": "3.7.0"
  }
 },
 "nbformat": 4,
 "nbformat_minor": 2
}
